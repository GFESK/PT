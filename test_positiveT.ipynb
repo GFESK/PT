{
  "cells": [
    {
      "cell_type": "code",
      "execution_count": null,
      "metadata": {
        "execution": {
          "iopub.execute_input": "2023-12-05T09:19:32.164625Z",
          "iopub.status.busy": "2023-12-05T09:19:32.163486Z",
          "iopub.status.idle": "2023-12-05T09:19:38.929470Z",
          "shell.execute_reply": "2023-12-05T09:19:38.928221Z",
          "shell.execute_reply.started": "2023-12-05T09:19:32.164587Z"
        },
        "tags": [],
        "id": "5h-99VqEYklS",
        "outputId": "a9410252-1254-4549-81b8-bc9a6a8fd46c"
      },
      "outputs": [
        {
          "name": "stdout",
          "output_type": "stream",
          "text": [
            "Defaulting to user installation because normal site-packages is not writeable\n",
            "Requirement already satisfied: transformers in /home/jupyter/.local/lib/python3.10/site-packages (4.35.2)\n",
            "Requirement already satisfied: filelock in /usr/local/lib/python3.10/dist-packages (from transformers) (3.12.2)\n",
            "Requirement already satisfied: huggingface-hub<1.0,>=0.16.4 in /home/jupyter/.local/lib/python3.10/site-packages (from transformers) (0.19.4)\n",
            "Requirement already satisfied: numpy>=1.17 in /usr/local/lib/python3.10/dist-packages (from transformers) (1.22.4)\n",
            "Requirement already satisfied: packaging>=20.0 in /kernel/lib/python3.10/site-packages (from transformers) (23.2)\n",
            "Requirement already satisfied: pyyaml>=5.1 in /usr/local/lib/python3.10/dist-packages (from transformers) (6.0.1)\n",
            "Requirement already satisfied: regex!=2019.12.17 in /usr/local/lib/python3.10/dist-packages (from transformers) (2022.10.31)\n",
            "Requirement already satisfied: requests in /usr/local/lib/python3.10/dist-packages (from transformers) (2.27.1)\n",
            "Requirement already satisfied: tokenizers<0.19,>=0.14 in /home/jupyter/.local/lib/python3.10/site-packages (from transformers) (0.15.0)\n",
            "Requirement already satisfied: safetensors>=0.3.1 in /home/jupyter/.local/lib/python3.10/site-packages (from transformers) (0.4.1)\n",
            "Requirement already satisfied: tqdm>=4.27 in /usr/local/lib/python3.10/dist-packages (from transformers) (4.65.0)\n",
            "Requirement already satisfied: fsspec>=2023.5.0 in /usr/local/lib/python3.10/dist-packages (from huggingface-hub<1.0,>=0.16.4->transformers) (2023.6.0)\n",
            "Requirement already satisfied: typing-extensions>=3.7.4.3 in /kernel/lib/python3.10/site-packages (from huggingface-hub<1.0,>=0.16.4->transformers) (4.8.0)\n",
            "Requirement already satisfied: urllib3<1.27,>=1.21.1 in /usr/local/lib/python3.10/dist-packages (from requests->transformers) (1.26.16)\n",
            "Requirement already satisfied: certifi>=2017.4.17 in /kernel/lib/python3.10/site-packages (from requests->transformers) (2023.7.22)\n",
            "Collecting charset-normalizer~=2.0.0 (from requests->transformers)\n",
            "  Using cached charset_normalizer-2.0.12-py3-none-any.whl (39 kB)\n",
            "Requirement already satisfied: idna<4,>=2.5 in /kernel/lib/python3.10/site-packages (from requests->transformers) (3.4)\n",
            "Installing collected packages: charset-normalizer\n",
            "\u001b[33m  WARNING: The script normalizer is installed in '/home/jupyter/.local/bin' which is not on PATH.\n",
            "  Consider adding this directory to PATH or, if you prefer to suppress this warning, use --no-warn-script-location.\u001b[0m\u001b[33m\n",
            "\u001b[0mSuccessfully installed charset-normalizer-2.0.12\n",
            "\n",
            "\u001b[1m[\u001b[0m\u001b[34;49mnotice\u001b[0m\u001b[1;39;49m]\u001b[0m\u001b[39;49m A new release of pip is available: \u001b[0m\u001b[31;49m23.2.1\u001b[0m\u001b[39;49m -> \u001b[0m\u001b[32;49m23.3.1\u001b[0m\n",
            "\u001b[1m[\u001b[0m\u001b[34;49mnotice\u001b[0m\u001b[1;39;49m]\u001b[0m\u001b[39;49m To update, run: \u001b[0m\u001b[32;49mpython3 -m pip install --upgrade pip\u001b[0m\n"
          ]
        }
      ],
      "source": [
        "%pip install transformers"
      ]
    },
    {
      "cell_type": "code",
      "execution_count": null,
      "metadata": {
        "execution": {
          "iopub.execute_input": "2023-12-05T09:19:38.932614Z",
          "iopub.status.busy": "2023-12-05T09:19:38.931733Z",
          "iopub.status.idle": "2023-12-05T09:19:38.949802Z",
          "shell.execute_reply": "2023-12-05T09:19:38.948488Z",
          "shell.execute_reply.started": "2023-12-05T09:19:38.932576Z"
        },
        "id": "6teia8VjBMRL",
        "tags": []
      },
      "outputs": [],
      "source": [
        "import pandas as pd\n",
        "import numpy as np\n",
        "import ipaddress\n",
        "import time\n",
        "import datetime\n",
        "import re\n",
        "\n",
        "import gc\n",
        "import random\n",
        "\n",
        "import torch\n",
        "import torch.nn as nn\n",
        "from torch.utils.data import TensorDataset, DataLoader, RandomSampler, SequentialSampler,random_split\n",
        "from sklearn.model_selection import train_test_split\n",
        "from sklearn.metrics import classification_report\n",
        "\n",
        "import transformers\n",
        "from transformers import BertForSequenceClassification, AdamW, BertConfig,BertTokenizer,get_linear_schedule_with_warmup"
      ]
    },
    {
      "cell_type": "code",
      "execution_count": null,
      "metadata": {
        "colab": {
          "base_uri": "https://localhost:8080/"
        },
        "execution": {
          "iopub.execute_input": "2023-12-05T09:19:38.953865Z",
          "iopub.status.busy": "2023-12-05T09:19:38.952740Z",
          "iopub.status.idle": "2023-12-05T09:19:39.097832Z",
          "shell.execute_reply": "2023-12-05T09:19:39.096571Z",
          "shell.execute_reply.started": "2023-12-05T09:19:38.953787Z"
        },
        "id": "QLixoYEOjYEJ",
        "outputId": "16950b5a-fe47-43bd-f87b-4f2fa84d0119"
      },
      "outputs": [
        {
          "data": {
            "text/plain": [
              "device(type='cuda', index=0)"
            ]
          },
          "execution_count": 5,
          "metadata": {},
          "output_type": "execute_result"
        }
      ],
      "source": [
        "device = torch.device(\"cuda:0\" if torch.cuda.is_available() else \"cpu\")\n",
        "device"
      ]
    },
    {
      "cell_type": "markdown",
      "source": [
        "# EDA"
      ],
      "metadata": {
        "id": "hV9DvW2OhsCF"
      }
    },
    {
      "cell_type": "code",
      "execution_count": null,
      "metadata": {
        "execution": {
          "iopub.execute_input": "2023-12-05T09:19:39.100613Z",
          "iopub.status.busy": "2023-12-05T09:19:39.099744Z",
          "iopub.status.idle": "2023-12-05T09:19:39.587479Z",
          "shell.execute_reply": "2023-12-05T09:19:39.586104Z",
          "shell.execute_reply.started": "2023-12-05T09:19:39.100564Z"
        },
        "id": "K0ktIXAFib2V"
      },
      "outputs": [],
      "source": [
        "df = pd.read_csv('part_10.csv.gz')"
      ]
    },
    {
      "cell_type": "code",
      "execution_count": null,
      "metadata": {
        "execution": {
          "iopub.execute_input": "2023-12-05T09:19:39.589829Z",
          "iopub.status.busy": "2023-12-05T09:19:39.588775Z",
          "iopub.status.idle": "2023-12-05T09:19:39.712039Z",
          "shell.execute_reply": "2023-12-05T09:19:39.710806Z",
          "shell.execute_reply.started": "2023-12-05T09:19:39.589760Z"
        },
        "id": "TYp48QIS5CTL"
      },
      "outputs": [],
      "source": [
        "df.dropna(axis= 0, how='all', inplace= True)\n",
        "df.drop(columns= ['EVENT_ID', 'RESPONSE_CODE'], inplace= True)"
      ]
    },
    {
      "cell_type": "code",
      "execution_count": null,
      "metadata": {
        "colab": {
          "base_uri": "https://localhost:8080/"
        },
        "execution": {
          "iopub.execute_input": "2023-12-05T09:19:39.714193Z",
          "iopub.status.busy": "2023-12-05T09:19:39.713195Z",
          "iopub.status.idle": "2023-12-05T09:19:39.802083Z",
          "shell.execute_reply": "2023-12-05T09:19:39.800944Z",
          "shell.execute_reply.started": "2023-12-05T09:19:39.714124Z"
        },
        "id": "WJRPK6B75Cjv",
        "outputId": "76f98501-1ac9-418f-a78f-e5650c994bfa"
      },
      "outputs": [
        {
          "data": {
            "text/plain": [
              "CLIENT_IP                    0\n",
              "CLIENT_USERAGENT           321\n",
              "REQUEST_SIZE                44\n",
              "MATCHED_VARIABLE_SRC       108\n",
              "MATCHED_VARIABLE_NAME     4671\n",
              "MATCHED_VARIABLE_VALUE     155\n",
              "dtype: int64"
            ]
          },
          "execution_count": 8,
          "metadata": {},
          "output_type": "execute_result"
        }
      ],
      "source": [
        "df.isna().sum()"
      ]
    },
    {
      "cell_type": "code",
      "execution_count": null,
      "metadata": {
        "colab": {
          "base_uri": "https://localhost:8080/",
          "height": 461
        },
        "execution": {
          "iopub.execute_input": "2023-12-05T09:19:39.804487Z",
          "iopub.status.busy": "2023-12-05T09:19:39.803483Z",
          "iopub.status.idle": "2023-12-05T09:19:39.865478Z",
          "shell.execute_reply": "2023-12-05T09:19:39.864369Z",
          "shell.execute_reply.started": "2023-12-05T09:19:39.804442Z"
        },
        "id": "Ha0tBom7GTuK",
        "outputId": "8ffaa93f-9c96-4dcd-818e-1f0b49d5c00f"
      },
      "outputs": [
        {
          "data": {
            "text/html": [
              "<div>\n",
              "<style scoped>\n",
              "    .dataframe tbody tr th:only-of-type {\n",
              "        vertical-align: middle;\n",
              "    }\n",
              "\n",
              "    .dataframe tbody tr th {\n",
              "        vertical-align: top;\n",
              "    }\n",
              "\n",
              "    .dataframe thead th {\n",
              "        text-align: right;\n",
              "    }\n",
              "</style>\n",
              "<table border=\"1\" class=\"dataframe\">\n",
              "  <thead>\n",
              "    <tr style=\"text-align: right;\">\n",
              "      <th></th>\n",
              "      <th>CLIENT_IP</th>\n",
              "      <th>CLIENT_USERAGENT</th>\n",
              "      <th>REQUEST_SIZE</th>\n",
              "      <th>MATCHED_VARIABLE_SRC</th>\n",
              "      <th>MATCHED_VARIABLE_NAME</th>\n",
              "      <th>MATCHED_VARIABLE_VALUE</th>\n",
              "    </tr>\n",
              "  </thead>\n",
              "  <tbody>\n",
              "    <tr>\n",
              "      <th>0</th>\n",
              "      <td>188.138.92.55</td>\n",
              "      <td>NaN</td>\n",
              "      <td>166</td>\n",
              "      <td>REQUEST_URI</td>\n",
              "      <td>NaN</td>\n",
              "      <td>//tmp/20160925122692indo.php.vob</td>\n",
              "    </tr>\n",
              "    <tr>\n",
              "      <th>1</th>\n",
              "      <td>93.158.215.131</td>\n",
              "      <td>Mozilla/5.0 (Windows NT 6.3; WOW64; rv:45.0) G...</td>\n",
              "      <td>431</td>\n",
              "      <td>REQUEST_GET_ARGS</td>\n",
              "      <td>url</td>\n",
              "      <td>http://www.galitsios.gr/?option=com_k2</td>\n",
              "    </tr>\n",
              "    <tr>\n",
              "      <th>2</th>\n",
              "      <td>176.123.240.64</td>\n",
              "      <td>Mozilla/5.0 (Windows NT 6.0; rv:34.0) Gecko/20...</td>\n",
              "      <td>395</td>\n",
              "      <td>REQUEST_PATH</td>\n",
              "      <td>NaN</td>\n",
              "      <td>/opinion/page1_3.php\\\" and \\\"\\\"x\\\"\\\"=\\\"\\\"x\\\"</td>\n",
              "    </tr>\n",
              "    <tr>\n",
              "      <th>3</th>\n",
              "      <td>73.78.81.63</td>\n",
              "      <td>Mozilla/5.0 (Windows NT 6.3; WOW64; rv:45.0) G...</td>\n",
              "      <td>387</td>\n",
              "      <td>REQUEST_GET_ARGS</td>\n",
              "      <td>url</td>\n",
              "      <td>http://thereviewgroup.org/boss-capital/</td>\n",
              "    </tr>\n",
              "    <tr>\n",
              "      <th>4</th>\n",
              "      <td>66.102.9.44</td>\n",
              "      <td>Mozilla/5.0 (Linux; Android 4.4.2; GT-N7100 Bu...</td>\n",
              "      <td>1733</td>\n",
              "      <td>REQUEST_GET_ARGS</td>\n",
              "      <td>REQUEST_GET_ARGS._</td>\n",
              "      <td>1516288084140</td>\n",
              "    </tr>\n",
              "    <tr>\n",
              "      <th>...</th>\n",
              "      <td>...</td>\n",
              "      <td>...</td>\n",
              "      <td>...</td>\n",
              "      <td>...</td>\n",
              "      <td>...</td>\n",
              "      <td>...</td>\n",
              "    </tr>\n",
              "    <tr>\n",
              "      <th>57840</th>\n",
              "      <td>217.175.140.69</td>\n",
              "      <td>MICROSOFT_DEVICE_METADATA_RETRIEVAL_CLIENT</td>\n",
              "      <td>2402</td>\n",
              "      <td>REQUEST_XML</td>\n",
              "      <td>REQUEST_XML./s:Envelope/s:Body/DeviceMetadataB...</td>\n",
              "      <td>DOID:USBSTOR\\\\Imation_USB_Flash_Drive_2</td>\n",
              "    </tr>\n",
              "    <tr>\n",
              "      <th>57841</th>\n",
              "      <td>109.206.151.20</td>\n",
              "      <td>Mozilla/5.0 (Windows NT 10.0; WOW64) AppleWebK...</td>\n",
              "      <td>922</td>\n",
              "      <td>REQUEST_GET_ARGS</td>\n",
              "      <td>REQUEST_GET_ARGS._</td>\n",
              "      <td>1516440395935</td>\n",
              "    </tr>\n",
              "    <tr>\n",
              "      <th>57842</th>\n",
              "      <td>89.23.32.19</td>\n",
              "      <td>Mozilla/5.0 (Windows NT 6.1; Win64; x64; rv:57...</td>\n",
              "      <td>1453</td>\n",
              "      <td>REQUEST_COOKIES</td>\n",
              "      <td>REQUEST_COOKIES.User-cn</td>\n",
              "      <td>Николай Харченко</td>\n",
              "    </tr>\n",
              "    <tr>\n",
              "      <th>57843</th>\n",
              "      <td>194.228.20.50</td>\n",
              "      <td>Mozilla/5.0 (Windows NT 6.1; WOW64; Trident/7....</td>\n",
              "      <td>1550</td>\n",
              "      <td>REQUEST_POST_ARGS</td>\n",
              "      <td>REQUEST_POST_ARGS.s_Unids</td>\n",
              "      <td>688D71625B88803CC125818E00471A8D;9915FD3520134...</td>\n",
              "    </tr>\n",
              "    <tr>\n",
              "      <th>57844</th>\n",
              "      <td>188.43.52.163</td>\n",
              "      <td>curl/7.22.0 (i686-pc-linux-gnu) libcurl/7.22.0...</td>\n",
              "      <td>95832</td>\n",
              "      <td>REQUEST_ARGS_KEYS</td>\n",
              "      <td>XâO½#*\u000f«\u001c",
              "WÒ:©¹µMÖ\\täÛk17qòmʂ3³vާÏ?æÞÅË...</td>\n",
              "      <td>XâO½#*\u000f«\u001c",
              "WÒ:©¹µMÖ\\täÛk17qòmʂ3³vާÏ?æÞÅË...</td>\n",
              "    </tr>\n",
              "  </tbody>\n",
              "</table>\n",
              "<p>57838 rows × 6 columns</p>\n",
              "</div>"
            ],
            "text/plain": [
              "            CLIENT_IP  ...                             MATCHED_VARIABLE_VALUE\n",
              "0       188.138.92.55  ...                   //tmp/20160925122692indo.php.vob\n",
              "1      93.158.215.131  ...             http://www.galitsios.gr/?option=com_k2\n",
              "2      176.123.240.64  ...       /opinion/page1_3.php\\\" and \\\"\\\"x\\\"\\\"=\\\"\\\"x\\\"\n",
              "3         73.78.81.63  ...            http://thereviewgroup.org/boss-capital/\n",
              "4         66.102.9.44  ...                                      1516288084140\n",
              "...               ...  ...                                                ...\n",
              "57840  217.175.140.69  ...            DOID:USBSTOR\\\\Imation_USB_Flash_Drive_2\n",
              "57841  109.206.151.20  ...                                      1516440395935\n",
              "57842     89.23.32.19  ...                                   Николай Харченко\n",
              "57843   194.228.20.50  ...  688D71625B88803CC125818E00471A8D;9915FD3520134...\n",
              "57844   188.43.52.163  ...  XâO½#*\u000f«\n",
              "WÒ:©¹µMÖ\\täÛk17qòmʂ3³vާÏ?æÞÅË...\n",
              "\n",
              "[57838 rows x 6 columns]"
            ]
          },
          "execution_count": 9,
          "metadata": {},
          "output_type": "execute_result"
        }
      ],
      "source": [
        "df"
      ]
    },
    {
      "cell_type": "markdown",
      "source": [
        "## Основная мысль следующая:\n",
        "Разделить на хорошие и плохие запросы, далее взять юзер агента и значение которое было передано в запросе нормализовать и скормить все трансформеру, так же можно воспользоваться fast-text и классифицировать на его эмбедингах, но bert выглядит понадежнее."
      ],
      "metadata": {
        "id": "8FIetZsIcp95"
      }
    },
    {
      "cell_type": "code",
      "execution_count": null,
      "metadata": {
        "execution": {
          "iopub.execute_input": "2023-12-05T09:19:39.869583Z",
          "iopub.status.busy": "2023-12-05T09:19:39.868843Z",
          "iopub.status.idle": "2023-12-05T09:19:39.893415Z",
          "shell.execute_reply": "2023-12-05T09:19:39.892236Z",
          "shell.execute_reply.started": "2023-12-05T09:19:39.869551Z"
        },
        "id": "o7rO5Cfv_aNy"
      },
      "outputs": [],
      "source": [
        "def clean_n(x):\n",
        "  if isinstance(x, type(np.nan)):\n",
        "    return 0\n",
        "  if re.findall(r'\\b[0-9]+\\b', x):\n",
        "    return int(x)\n",
        "  else:\n",
        "    return -1"
      ]
    },
    {
      "cell_type": "code",
      "execution_count": null,
      "metadata": {
        "execution": {
          "iopub.execute_input": "2023-12-05T09:19:40.036662Z",
          "iopub.status.busy": "2023-12-05T09:19:40.035928Z",
          "iopub.status.idle": "2023-12-05T09:19:40.077841Z",
          "shell.execute_reply": "2023-12-05T09:19:40.076747Z",
          "shell.execute_reply.started": "2023-12-05T09:19:40.036596Z"
        },
        "id": "kG93NnEWHs-v"
      },
      "outputs": [],
      "source": [
        "def tag_ip(x): #проверка валидности ip\n",
        "  if x.count('.') == 3:\n",
        "    try:\n",
        "      ipaddress.IPv4Address(x)\n",
        "      return 0\n",
        "    except ipaddress.AddressValueError:\n",
        "      return 1\n",
        "  else:\n",
        "    try:\n",
        "      ipaddress.IPv6Address(x)\n",
        "      return 0\n",
        "    except ipaddress.AddressValueError:\n",
        "      return 1"
      ]
    },
    {
      "cell_type": "code",
      "execution_count": null,
      "metadata": {
        "execution": {
          "iopub.execute_input": "2023-12-05T09:19:40.115070Z",
          "iopub.status.busy": "2023-12-05T09:19:40.113788Z",
          "iopub.status.idle": "2023-12-05T09:19:40.152992Z",
          "shell.execute_reply": "2023-12-05T09:19:40.151891Z",
          "shell.execute_reply.started": "2023-12-05T09:19:40.115016Z"
        },
        "id": "oIjc72w0eiBi"
      },
      "outputs": [],
      "source": [
        "def bad_req_tagger(x, useragent=True):\n",
        "  if isinstance(x, str):\n",
        "    for c in code_ex:\n",
        "      if x.lower().find(c) != -1 and x.lower().find('mozilla') == -1 and x.lower().find('opera') == -1:\n",
        "        return 1\n",
        "    if x[0] in stop_s:\n",
        "      return 1\n",
        "    return 0\n",
        "  else:\n",
        "    return 1"
      ]
    },
    {
      "cell_type": "markdown",
      "source": [
        "## Список плохих запрсов:\n",
        "Чтобы разметить данные надо сводить их постепенно к общему знаменателю:\n",
        "Смотрим на данные находим например что тыкают ковычку - пишем в лист с примерами плохих запросов, в юзер агенте остались какие то неизмветсные названия - загуглить что это или спросить у GPT, нашли base64 строчку - пытаемся расшифровать посмотреть что внутри(кстати не получилось), в общем в ручную по крупице собираем target\n",
        "В основном для нас важны стобцы с ip, user-agent и value"
      ],
      "metadata": {
        "id": "7UHKq1NZdiW1"
      }
    },
    {
      "cell_type": "code",
      "execution_count": null,
      "metadata": {
        "execution": {
          "iopub.execute_input": "2023-12-05T09:19:40.079981Z",
          "iopub.status.busy": "2023-12-05T09:19:40.079217Z",
          "iopub.status.idle": "2023-12-05T09:19:40.112557Z",
          "shell.execute_reply": "2023-12-05T09:19:40.111405Z",
          "shell.execute_reply.started": "2023-12-05T09:19:40.079949Z"
        },
        "id": "62PSdVyPes-8"
      },
      "outputs": [],
      "source": [
        "stop_s = ['*', '@', '\"', '|', '{', '(', \"'\", '$']\n",
        "code_ex = ['print', 'select', 'avd', 'waitfor', '-1 or', 'ls', '-la', 'factor', 'ltx71', 'bot', 'b-o-t', 'b o t', 'xml', '${',\n",
        "           'script', 'php', '==', 'int', 'varchar', 'sql', 'curl', 'benchhttp', 'zmeu', 'alert',\n",
        "           'python', 'requests', 'arachni', 'xenu', 'nessus', 'scrapy', 'wget', 'urlgrabber',\n",
        "           'jigsaw', 'nsplayer', 'crawler', 'openvas', 'detector', 'or']"
      ]
    },
    {
      "cell_type": "code",
      "execution_count": null,
      "metadata": {
        "execution": {
          "iopub.execute_input": "2023-12-05T09:19:40.155757Z",
          "iopub.status.busy": "2023-12-05T09:19:40.154657Z",
          "iopub.status.idle": "2023-12-05T09:19:42.031450Z",
          "shell.execute_reply": "2023-12-05T09:19:42.030340Z",
          "shell.execute_reply.started": "2023-12-05T09:19:40.155701Z"
        },
        "id": "fb07mdp8HYf4"
      },
      "outputs": [],
      "source": [
        "df.REQUEST_SIZE = df.REQUEST_SIZE.apply(lambda x: clean_n(x))#инсерт рядом с колонкой для наглядности\n",
        "df.insert(1, 'IP_Tag',df.CLIENT_IP.apply(lambda x: tag_ip(x)))\n",
        "df.insert(3, 'USERAGENT_Tag',df.CLIENT_USERAGENT.apply(lambda x: bad_req_tagger(x)))\n",
        "# df.insert(8, 'VARIABLE_NAME', df.MATCHED_VARIABLE_NAME.apply(lambda x: x.split('.')[1] if isinstance(x, str) and len(x.split('.')) > 1 else x))\n",
        "df.insert(8, 'VARIABLE_VALUE', df.MATCHED_VARIABLE_VALUE.apply(lambda x: bad_req_tagger(x, useragent= False)))"
      ]
    },
    {
      "cell_type": "code",
      "execution_count": null,
      "metadata": {
        "colab": {
          "base_uri": "https://localhost:8080/",
          "height": 461
        },
        "execution": {
          "iopub.execute_input": "2023-12-05T09:19:42.033899Z",
          "iopub.status.busy": "2023-12-05T09:19:42.032975Z",
          "iopub.status.idle": "2023-12-05T09:19:42.072832Z",
          "shell.execute_reply": "2023-12-05T09:19:42.071733Z",
          "shell.execute_reply.started": "2023-12-05T09:19:42.033853Z"
        },
        "id": "0xYo2Co1Nk28",
        "outputId": "a9916370-3449-40a5-ad45-762da4dfceeb"
      },
      "outputs": [
        {
          "data": {
            "text/html": [
              "<div>\n",
              "<style scoped>\n",
              "    .dataframe tbody tr th:only-of-type {\n",
              "        vertical-align: middle;\n",
              "    }\n",
              "\n",
              "    .dataframe tbody tr th {\n",
              "        vertical-align: top;\n",
              "    }\n",
              "\n",
              "    .dataframe thead th {\n",
              "        text-align: right;\n",
              "    }\n",
              "</style>\n",
              "<table border=\"1\" class=\"dataframe\">\n",
              "  <thead>\n",
              "    <tr style=\"text-align: right;\">\n",
              "      <th></th>\n",
              "      <th>CLIENT_IP</th>\n",
              "      <th>IP_Tag</th>\n",
              "      <th>CLIENT_USERAGENT</th>\n",
              "      <th>USERAGENT_Tag</th>\n",
              "      <th>REQUEST_SIZE</th>\n",
              "      <th>MATCHED_VARIABLE_SRC</th>\n",
              "      <th>MATCHED_VARIABLE_NAME</th>\n",
              "      <th>MATCHED_VARIABLE_VALUE</th>\n",
              "      <th>VARIABLE_VALUE</th>\n",
              "    </tr>\n",
              "  </thead>\n",
              "  <tbody>\n",
              "    <tr>\n",
              "      <th>0</th>\n",
              "      <td>188.138.92.55</td>\n",
              "      <td>0</td>\n",
              "      <td>NaN</td>\n",
              "      <td>1</td>\n",
              "      <td>166</td>\n",
              "      <td>REQUEST_URI</td>\n",
              "      <td>NaN</td>\n",
              "      <td>//tmp/20160925122692indo.php.vob</td>\n",
              "      <td>1</td>\n",
              "    </tr>\n",
              "    <tr>\n",
              "      <th>1</th>\n",
              "      <td>93.158.215.131</td>\n",
              "      <td>0</td>\n",
              "      <td>Mozilla/5.0 (Windows NT 6.3; WOW64; rv:45.0) G...</td>\n",
              "      <td>0</td>\n",
              "      <td>431</td>\n",
              "      <td>REQUEST_GET_ARGS</td>\n",
              "      <td>url</td>\n",
              "      <td>http://www.galitsios.gr/?option=com_k2</td>\n",
              "      <td>0</td>\n",
              "    </tr>\n",
              "    <tr>\n",
              "      <th>2</th>\n",
              "      <td>176.123.240.64</td>\n",
              "      <td>0</td>\n",
              "      <td>Mozilla/5.0 (Windows NT 6.0; rv:34.0) Gecko/20...</td>\n",
              "      <td>0</td>\n",
              "      <td>395</td>\n",
              "      <td>REQUEST_PATH</td>\n",
              "      <td>NaN</td>\n",
              "      <td>/opinion/page1_3.php\\\" and \\\"\\\"x\\\"\\\"=\\\"\\\"x\\\"</td>\n",
              "      <td>1</td>\n",
              "    </tr>\n",
              "    <tr>\n",
              "      <th>3</th>\n",
              "      <td>73.78.81.63</td>\n",
              "      <td>0</td>\n",
              "      <td>Mozilla/5.0 (Windows NT 6.3; WOW64; rv:45.0) G...</td>\n",
              "      <td>0</td>\n",
              "      <td>387</td>\n",
              "      <td>REQUEST_GET_ARGS</td>\n",
              "      <td>url</td>\n",
              "      <td>http://thereviewgroup.org/boss-capital/</td>\n",
              "      <td>1</td>\n",
              "    </tr>\n",
              "    <tr>\n",
              "      <th>4</th>\n",
              "      <td>66.102.9.44</td>\n",
              "      <td>0</td>\n",
              "      <td>Mozilla/5.0 (Linux; Android 4.4.2; GT-N7100 Bu...</td>\n",
              "      <td>0</td>\n",
              "      <td>1733</td>\n",
              "      <td>REQUEST_GET_ARGS</td>\n",
              "      <td>REQUEST_GET_ARGS._</td>\n",
              "      <td>1516288084140</td>\n",
              "      <td>0</td>\n",
              "    </tr>\n",
              "    <tr>\n",
              "      <th>...</th>\n",
              "      <td>...</td>\n",
              "      <td>...</td>\n",
              "      <td>...</td>\n",
              "      <td>...</td>\n",
              "      <td>...</td>\n",
              "      <td>...</td>\n",
              "      <td>...</td>\n",
              "      <td>...</td>\n",
              "      <td>...</td>\n",
              "    </tr>\n",
              "    <tr>\n",
              "      <th>57840</th>\n",
              "      <td>217.175.140.69</td>\n",
              "      <td>0</td>\n",
              "      <td>MICROSOFT_DEVICE_METADATA_RETRIEVAL_CLIENT</td>\n",
              "      <td>0</td>\n",
              "      <td>2402</td>\n",
              "      <td>REQUEST_XML</td>\n",
              "      <td>REQUEST_XML./s:Envelope/s:Body/DeviceMetadataB...</td>\n",
              "      <td>DOID:USBSTOR\\\\Imation_USB_Flash_Drive_2</td>\n",
              "      <td>1</td>\n",
              "    </tr>\n",
              "    <tr>\n",
              "      <th>57841</th>\n",
              "      <td>109.206.151.20</td>\n",
              "      <td>0</td>\n",
              "      <td>Mozilla/5.0 (Windows NT 10.0; WOW64) AppleWebK...</td>\n",
              "      <td>0</td>\n",
              "      <td>922</td>\n",
              "      <td>REQUEST_GET_ARGS</td>\n",
              "      <td>REQUEST_GET_ARGS._</td>\n",
              "      <td>1516440395935</td>\n",
              "      <td>0</td>\n",
              "    </tr>\n",
              "    <tr>\n",
              "      <th>57842</th>\n",
              "      <td>89.23.32.19</td>\n",
              "      <td>0</td>\n",
              "      <td>Mozilla/5.0 (Windows NT 6.1; Win64; x64; rv:57...</td>\n",
              "      <td>0</td>\n",
              "      <td>1453</td>\n",
              "      <td>REQUEST_COOKIES</td>\n",
              "      <td>REQUEST_COOKIES.User-cn</td>\n",
              "      <td>Николай Харченко</td>\n",
              "      <td>0</td>\n",
              "    </tr>\n",
              "    <tr>\n",
              "      <th>57843</th>\n",
              "      <td>194.228.20.50</td>\n",
              "      <td>0</td>\n",
              "      <td>Mozilla/5.0 (Windows NT 6.1; WOW64; Trident/7....</td>\n",
              "      <td>0</td>\n",
              "      <td>1550</td>\n",
              "      <td>REQUEST_POST_ARGS</td>\n",
              "      <td>REQUEST_POST_ARGS.s_Unids</td>\n",
              "      <td>688D71625B88803CC125818E00471A8D;9915FD3520134...</td>\n",
              "      <td>0</td>\n",
              "    </tr>\n",
              "    <tr>\n",
              "      <th>57844</th>\n",
              "      <td>188.43.52.163</td>\n",
              "      <td>0</td>\n",
              "      <td>curl/7.22.0 (i686-pc-linux-gnu) libcurl/7.22.0...</td>\n",
              "      <td>1</td>\n",
              "      <td>95832</td>\n",
              "      <td>REQUEST_ARGS_KEYS</td>\n",
              "      <td>XâO½#*\u000f«\u001c",
              "WÒ:©¹µMÖ\\täÛk17qòmʂ3³vާÏ?æÞÅË...</td>\n",
              "      <td>XâO½#*\u000f«\u001c",
              "WÒ:©¹µMÖ\\täÛk17qòmʂ3³vާÏ?æÞÅË...</td>\n",
              "      <td>0</td>\n",
              "    </tr>\n",
              "  </tbody>\n",
              "</table>\n",
              "<p>57838 rows × 9 columns</p>\n",
              "</div>"
            ],
            "text/plain": [
              "            CLIENT_IP  ...  VARIABLE_VALUE\n",
              "0       188.138.92.55  ...               1\n",
              "1      93.158.215.131  ...               0\n",
              "2      176.123.240.64  ...               1\n",
              "3         73.78.81.63  ...               1\n",
              "4         66.102.9.44  ...               0\n",
              "...               ...  ...             ...\n",
              "57840  217.175.140.69  ...               1\n",
              "57841  109.206.151.20  ...               0\n",
              "57842     89.23.32.19  ...               0\n",
              "57843   194.228.20.50  ...               0\n",
              "57844   188.43.52.163  ...               0\n",
              "\n",
              "[57838 rows x 9 columns]"
            ]
          },
          "execution_count": 16,
          "metadata": {},
          "output_type": "execute_result"
        }
      ],
      "source": [
        "df"
      ]
    },
    {
      "cell_type": "code",
      "execution_count": null,
      "metadata": {
        "execution": {
          "iopub.execute_input": "2023-12-05T09:19:42.075362Z",
          "iopub.status.busy": "2023-12-05T09:19:42.074393Z",
          "iopub.status.idle": "2023-12-05T09:19:42.317544Z",
          "shell.execute_reply": "2023-12-05T09:19:42.316155Z",
          "shell.execute_reply.started": "2023-12-05T09:19:42.075313Z"
        },
        "id": "gDjALLCmsEIK"
      },
      "outputs": [],
      "source": [
        "df['labels'] = [(a or b or c) for a, b, c in zip(df.IP_Tag.values, df.USERAGENT_Tag.values, df.VARIABLE_VALUE.values)]"
      ]
    },
    {
      "cell_type": "code",
      "execution_count": null,
      "metadata": {
        "colab": {
          "base_uri": "https://localhost:8080/"
        },
        "execution": {
          "iopub.execute_input": "2023-12-05T09:19:42.320092Z",
          "iopub.status.busy": "2023-12-05T09:19:42.319078Z",
          "iopub.status.idle": "2023-12-05T09:19:42.351642Z",
          "shell.execute_reply": "2023-12-05T09:19:42.350642Z",
          "shell.execute_reply.started": "2023-12-05T09:19:42.320057Z"
        },
        "id": "N92PHacvqida",
        "outputId": "4ed2cb49-ede1-47a6-ceae-6030d734c6e1"
      },
      "outputs": [
        {
          "data": {
            "text/plain": [
              "0    41639\n",
              "1    16199\n",
              "Name: labels, dtype: int64"
            ]
          },
          "execution_count": 18,
          "metadata": {},
          "output_type": "execute_result"
        }
      ],
      "source": [
        "df['labels'].value_counts()"
      ]
    },
    {
      "cell_type": "markdown",
      "source": [
        "# TRAIN"
      ],
      "metadata": {
        "id": "-EQ2CxPchkCW"
      }
    },
    {
      "cell_type": "markdown",
      "source": [
        "## Нормализация\n",
        "Основная идея в том чтобы убрать лишнее и не задеть нужное, например для нас важны * @ \" { } так как там может быть исполняемый код, а _ или \\\\ или , для нас не так важны в тексте"
      ],
      "metadata": {
        "id": "xXjX4G4_fQ32"
      }
    },
    {
      "cell_type": "code",
      "execution_count": null,
      "metadata": {
        "execution": {
          "iopub.execute_input": "2023-12-05T09:19:42.353873Z",
          "iopub.status.busy": "2023-12-05T09:19:42.353078Z",
          "iopub.status.idle": "2023-12-05T09:19:42.390606Z",
          "shell.execute_reply": "2023-12-05T09:19:42.389385Z",
          "shell.execute_reply.started": "2023-12-05T09:19:42.353825Z"
        },
        "id": "tgk7MfWMiRIM"
      },
      "outputs": [],
      "source": [
        "def cleaning(x):\n",
        "  if isinstance(x, str):\n",
        "    x = re.sub('[0-9]+', '', x)\n",
        "    x = re.sub(r'[|;|:|.|,|/|_|\\\\]', ' ', x)\n",
        "    x = re.sub(r'[-]', ' ', x)\n",
        "    x = re.sub(' +', ' ', x).lower()\n",
        "    x = x[:500]\n",
        "  return x"
      ]
    },
    {
      "cell_type": "code",
      "execution_count": null,
      "metadata": {
        "execution": {
          "iopub.execute_input": "2023-12-05T09:19:42.393100Z",
          "iopub.status.busy": "2023-12-05T09:19:42.392431Z",
          "iopub.status.idle": "2023-12-05T09:19:44.202608Z",
          "shell.execute_reply": "2023-12-05T09:19:44.201559Z",
          "shell.execute_reply.started": "2023-12-05T09:19:42.393066Z"
        },
        "id": "Cdx-K58jemT1"
      },
      "outputs": [],
      "source": [
        "df['useragent+value'] = df.CLIENT_USERAGENT.apply(lambda x: cleaning(x)) + ' ' + df.MATCHED_VARIABLE_VALUE.apply(lambda x: cleaning(x))"
      ]
    },
    {
      "cell_type": "code",
      "execution_count": null,
      "metadata": {
        "colab": {
          "base_uri": "https://localhost:8080/",
          "height": 423
        },
        "execution": {
          "iopub.execute_input": "2023-12-05T09:19:44.205187Z",
          "iopub.status.busy": "2023-12-05T09:19:44.204105Z",
          "iopub.status.idle": "2023-12-05T09:19:44.278763Z",
          "shell.execute_reply": "2023-12-05T09:19:44.277483Z",
          "shell.execute_reply.started": "2023-12-05T09:19:44.205131Z"
        },
        "id": "XVk8dCqhj5-7",
        "outputId": "4bf0c283-76e7-4bcb-9069-cda429fccd36"
      },
      "outputs": [
        {
          "data": {
            "text/html": [
              "<div>\n",
              "<style scoped>\n",
              "    .dataframe tbody tr th:only-of-type {\n",
              "        vertical-align: middle;\n",
              "    }\n",
              "\n",
              "    .dataframe tbody tr th {\n",
              "        vertical-align: top;\n",
              "    }\n",
              "\n",
              "    .dataframe thead th {\n",
              "        text-align: right;\n",
              "    }\n",
              "</style>\n",
              "<table border=\"1\" class=\"dataframe\">\n",
              "  <thead>\n",
              "    <tr style=\"text-align: right;\">\n",
              "      <th></th>\n",
              "      <th>useragent+value</th>\n",
              "      <th>labels</th>\n",
              "    </tr>\n",
              "  </thead>\n",
              "  <tbody>\n",
              "    <tr>\n",
              "      <th>0</th>\n",
              "      <td>mozilla (windows nt wow rv ) gecko firefox  ht...</td>\n",
              "      <td>0</td>\n",
              "    </tr>\n",
              "    <tr>\n",
              "      <th>1</th>\n",
              "      <td>mozilla (windows nt rv ) gecko firefox   opini...</td>\n",
              "      <td>1</td>\n",
              "    </tr>\n",
              "    <tr>\n",
              "      <th>2</th>\n",
              "      <td>mozilla (windows nt wow rv ) gecko firefox  ht...</td>\n",
              "      <td>1</td>\n",
              "    </tr>\n",
              "    <tr>\n",
              "      <th>3</th>\n",
              "      <td>mozilla (linux android gt n build koth) applew...</td>\n",
              "      <td>0</td>\n",
              "    </tr>\n",
              "    <tr>\n",
              "      <th>4</th>\n",
              "      <td>mozilla (linux android lg h build mrak) applew...</td>\n",
              "      <td>0</td>\n",
              "    </tr>\n",
              "    <tr>\n",
              "      <th>...</th>\n",
              "      <td>...</td>\n",
              "      <td>...</td>\n",
              "    </tr>\n",
              "    <tr>\n",
              "      <th>57384</th>\n",
              "      <td>microsoft device metadata retrieval client doi...</td>\n",
              "      <td>1</td>\n",
              "    </tr>\n",
              "    <tr>\n",
              "      <th>57385</th>\n",
              "      <td>mozilla (windows nt wow) applewebkit (khtml li...</td>\n",
              "      <td>0</td>\n",
              "    </tr>\n",
              "    <tr>\n",
              "      <th>57386</th>\n",
              "      <td>mozilla (windows nt win x rv ) gecko firefox  ...</td>\n",
              "      <td>0</td>\n",
              "    </tr>\n",
              "    <tr>\n",
              "      <th>57387</th>\n",
              "      <td>mozilla (windows nt wow trident rv ) like geck...</td>\n",
              "      <td>0</td>\n",
              "    </tr>\n",
              "    <tr>\n",
              "      <th>57388</th>\n",
              "      <td>curl (i pc linux gnu) libcurl openssl zlib lib...</td>\n",
              "      <td>1</td>\n",
              "    </tr>\n",
              "  </tbody>\n",
              "</table>\n",
              "<p>57389 rows × 2 columns</p>\n",
              "</div>"
            ],
            "text/plain": [
              "                                         useragent+value  labels\n",
              "0      mozilla (windows nt wow rv ) gecko firefox  ht...       0\n",
              "1      mozilla (windows nt rv ) gecko firefox   opini...       1\n",
              "2      mozilla (windows nt wow rv ) gecko firefox  ht...       1\n",
              "3      mozilla (linux android gt n build koth) applew...       0\n",
              "4      mozilla (linux android lg h build mrak) applew...       0\n",
              "...                                                  ...     ...\n",
              "57384  microsoft device metadata retrieval client doi...       1\n",
              "57385  mozilla (windows nt wow) applewebkit (khtml li...       0\n",
              "57386  mozilla (windows nt win x rv ) gecko firefox  ...       0\n",
              "57387  mozilla (windows nt wow trident rv ) like geck...       0\n",
              "57388  curl (i pc linux gnu) libcurl openssl zlib lib...       1\n",
              "\n",
              "[57389 rows x 2 columns]"
            ]
          },
          "execution_count": 21,
          "metadata": {},
          "output_type": "execute_result"
        }
      ],
      "source": [
        "clean_df = pd.DataFrame(df[['useragent+value', 'labels']])\n",
        "clean_df.dropna(axis=0, inplace= True)\n",
        "clean_df.reset_index(inplace= True, drop=True)\n",
        "clean_df"
      ]
    },
    {
      "cell_type": "code",
      "execution_count": null,
      "metadata": {
        "colab": {
          "base_uri": "https://localhost:8080/"
        },
        "execution": {
          "iopub.execute_input": "2023-12-05T09:19:44.281203Z",
          "iopub.status.busy": "2023-12-05T09:19:44.280386Z",
          "iopub.status.idle": "2023-12-05T09:19:44.342784Z",
          "shell.execute_reply": "2023-12-05T09:19:44.341533Z",
          "shell.execute_reply.started": "2023-12-05T09:19:44.281108Z"
        },
        "id": "29T1yhqaw74Y",
        "outputId": "e5b5663d-9158-4e53-937e-dacdd446c340"
      },
      "outputs": [
        {
          "data": {
            "text/plain": [
              "668"
            ]
          },
          "execution_count": 22,
          "metadata": {},
          "output_type": "execute_result"
        }
      ],
      "source": [
        "clean_df['useragent+value'].str.len().max()"
      ]
    },
    {
      "cell_type": "code",
      "execution_count": null,
      "metadata": {
        "execution": {
          "iopub.execute_input": "2023-12-05T09:19:44.344707Z",
          "iopub.status.busy": "2023-12-05T09:19:44.344046Z",
          "iopub.status.idle": "2023-12-05T09:19:44.410317Z",
          "shell.execute_reply": "2023-12-05T09:19:44.409142Z",
          "shell.execute_reply.started": "2023-12-05T09:19:44.344669Z"
        },
        "id": "mbqs17PM391G"
      },
      "outputs": [],
      "source": [
        "X_train, X_test, y_train, y_test = train_test_split(clean_df['useragent+value'], clean_df.labels, test_size=0.20, random_state=42, shuffle=True, stratify=clean_df.labels)"
      ]
    },
    {
      "cell_type": "code",
      "execution_count": null,
      "metadata": {
        "execution": {
          "iopub.execute_input": "2023-12-05T09:19:44.412627Z",
          "iopub.status.busy": "2023-12-05T09:19:44.411624Z",
          "iopub.status.idle": "2023-12-05T09:19:44.769723Z",
          "shell.execute_reply": "2023-12-05T09:19:44.768429Z",
          "shell.execute_reply.started": "2023-12-05T09:19:44.412552Z"
        },
        "id": "4FK_tRepKHaQ"
      },
      "outputs": [],
      "source": [
        "pd.DataFrame([X_test,y_test]).T.to_csv('test.csv', index= False)"
      ]
    },
    {
      "cell_type": "code",
      "execution_count": null,
      "metadata": {
        "colab": {
          "base_uri": "https://localhost:8080/",
          "height": 145,
          "referenced_widgets": [
            "9ef83fd7efe1494dbcd0958c86766bce",
            "a157ad48a5d6416da11c2da2d30a310b",
            "702aeb7d4f8b4eb0bea196272314f264",
            "efb5db92c6724646aa317b4f1a3fa131",
            "0de3ccd69ffc4dd6bd86e762d622e395",
            "4e6f01e258a04b1294935ad210009807",
            "c04ff6e308c64e3fb2cae2e2972eff33",
            "8c78a026f25d4be7951a42070c50913a",
            "c837e7a0de5946299bce86bc1647bc4b",
            "fcf74767553e447183d383609a352a9d",
            "7a4d29afae69497eba47f407aa69d8b5",
            "991f10d006bb4b9a98bf2b26eb8bbba8",
            "5f85d7ae5cc1403a962031e31579632f",
            "9fcca2772e594103aaa224f23436aa98",
            "e7271cf34c7d4aceb2b571e4dcb30bad",
            "28f54d7462b548e48bf146b2c3cf774a",
            "4504b26f41e74a04b47f700aea78dab1",
            "9514f01ec8d1437b93b1dce251e09398",
            "2654cab9dfce45019c877766e66897d8",
            "566db2a1da0a4ec3b2e3152636434a7f",
            "f0e13ba05277415b869542b0f40fdbad",
            "5e78980eab40433fa00f5ddff4c40567",
            "1bc3b6e70dfe47459794d42aa28d9018",
            "84bfb35392ac4168ab070faef7160529",
            "94242e6cc7874c8aadd1e8b3fdfd7d7d",
            "23cf162c5ff4469cbec621b47f478ada",
            "46d218f205e54090b20d6d62baa771dc",
            "733ffa8692b04586a863596599adb6cd",
            "853786dc71e442809b115858ad111b5d",
            "7e2ff7bd38c14926add6d723cfcaf858",
            "1ab5747fe7d945b6846e2446636fb914",
            "5e46e05975644987b392bcb8efbe68d1",
            "0fae38ff169e43abb2c76e2e677286a3",
            "08bc5106aa3f445bbaae398c605e739c",
            "caf68a54328c45afbc73db7c180da39b",
            "5b21638aab0c4273a6acfcaa2cb25a2a",
            "109fc5915c11449ca9c97584340df1b9",
            "a02dd5f2fa494b24800819fbf95f7968",
            "c9e70c5f2c1e4a88a1dee6e1c3a8fde6",
            "9fc399f7c30e4e7ba9667f6106b7aabc",
            "8ab618ccd3834b97a99e21aed54007ee",
            "d3cfb1e71b57464395044ba7e2b9c971",
            "388f43e9897c4bda8be29992418969e9",
            "6bc32a0083fe4915869f7570d23d3fec",
            "bd2496add1fe4fd6a13fd38c64be254b",
            "fac084fb122a4f98a764730f6ab109a0",
            "ab271656d5244cbdb7f83a848f392793",
            "6ea78e0eb87a43de9edff3ee926e2673"
          ]
        },
        "execution": {
          "iopub.execute_input": "2023-12-05T09:19:44.774771Z",
          "iopub.status.busy": "2023-12-05T09:19:44.773979Z",
          "iopub.status.idle": "2023-12-05T09:19:47.113452Z",
          "shell.execute_reply": "2023-12-05T09:19:47.112245Z",
          "shell.execute_reply.started": "2023-12-05T09:19:44.774736Z"
        },
        "id": "rP-sVMddlDOi",
        "outputId": "78963287-3a70-48be-c3f8-bca5195a173a"
      },
      "outputs": [
        {
          "data": {
            "application/vnd.jupyter.widget-view+json": {
              "model_id": "bd2496add1fe4fd6a13fd38c64be254b",
              "version_major": 2,
              "version_minor": 0
            },
            "text/plain": [
              "tokenizer_config.json:   0%|          | 0.00/28.0 [00:00<?, ?B/s]"
            ]
          },
          "metadata": {},
          "output_type": "display_data"
        },
        {
          "data": {
            "application/vnd.jupyter.widget-view+json": {
              "model_id": "fac084fb122a4f98a764730f6ab109a0",
              "version_major": 2,
              "version_minor": 0
            },
            "text/plain": [
              "vocab.txt:   0%|          | 0.00/232k [00:00<?, ?B/s]"
            ]
          },
          "metadata": {},
          "output_type": "display_data"
        },
        {
          "data": {
            "application/vnd.jupyter.widget-view+json": {
              "model_id": "ab271656d5244cbdb7f83a848f392793",
              "version_major": 2,
              "version_minor": 0
            },
            "text/plain": [
              "tokenizer.json:   0%|          | 0.00/466k [00:00<?, ?B/s]"
            ]
          },
          "metadata": {},
          "output_type": "display_data"
        },
        {
          "data": {
            "application/vnd.jupyter.widget-view+json": {
              "model_id": "6ea78e0eb87a43de9edff3ee926e2673",
              "version_major": 2,
              "version_minor": 0
            },
            "text/plain": [
              "config.json:   0%|          | 0.00/570 [00:00<?, ?B/s]"
            ]
          },
          "metadata": {},
          "output_type": "display_data"
        }
      ],
      "source": [
        "tokenizer = BertTokenizer.from_pretrained('bert-base-uncased', do_lower_case=True)"
      ]
    },
    {
      "cell_type": "code",
      "execution_count": null,
      "metadata": {
        "colab": {
          "base_uri": "https://localhost:8080/"
        },
        "execution": {
          "iopub.execute_input": "2023-12-05T09:19:47.116007Z",
          "iopub.status.busy": "2023-12-05T09:19:47.115462Z",
          "iopub.status.idle": "2023-12-05T09:20:48.171070Z",
          "shell.execute_reply": "2023-12-05T09:20:48.169757Z",
          "shell.execute_reply.started": "2023-12-05T09:19:47.115952Z"
        },
        "id": "7exoPijrf_ww",
        "outputId": "a47d50a8-8db9-45af-e16c-729fc478b93f"
      },
      "outputs": [
        {
          "name": "stdout",
          "output_type": "stream",
          "text": [
            "Max sentence length:  474\n"
          ]
        }
      ],
      "source": [
        "max_len = 0\n",
        "for sent in clean_df['useragent+value'].values:\n",
        "\n",
        "    input_ids = tokenizer.encode(sent, add_special_tokens=True)\n",
        "\n",
        "    max_len = max(max_len, len(input_ids))\n",
        "\n",
        "#найдем максимальную длину текста в корпусе\n",
        "print('Max sentence length: ', max_len)"
      ]
    },
    {
      "cell_type": "code",
      "execution_count": null,
      "metadata": {
        "colab": {
          "base_uri": "https://localhost:8080/"
        },
        "execution": {
          "iopub.execute_input": "2023-12-05T09:20:48.173780Z",
          "iopub.status.busy": "2023-12-05T09:20:48.172653Z",
          "iopub.status.idle": "2023-12-05T09:21:57.903571Z",
          "shell.execute_reply": "2023-12-05T09:21:57.902447Z",
          "shell.execute_reply.started": "2023-12-05T09:20:48.173712Z"
        },
        "id": "5nDflTAjf_uZ",
        "outputId": "185c3d89-ed72-4067-dd56-1373d01b11af"
      },
      "outputs": [
        {
          "name": "stderr",
          "output_type": "stream",
          "text": [
            "/home/jupyter/.local/lib/python3.10/site-packages/transformers/tokenization_utils_base.py:2614: FutureWarning: The `pad_to_max_length` argument is deprecated and will be removed in a future version, use `padding=True` or `padding='longest'` to pad to the longest sequence in the batch, or use `padding='max_length'` to pad to a max length. In this case, you can give a specific length with `max_length` (e.g. `max_length=45`) or leave max_length to None to pad to the maximal input size of the model (e.g. 512 for Bert).\n",
            "  warnings.warn(\n"
          ]
        },
        {
          "name": "stdout",
          "output_type": "stream",
          "text": [
            "Original:  mozilla (windows nt wow) applewebkit (khtml like gecko) chrome safari  post ' 'xmlhttprequest ' 'aeddbbfabefdacbcebabffeab\n",
            "Token IDs: tensor([  101,  9587,  5831,  4571,  1006,  3645, 23961, 10166,  1007,  6207,\n",
            "         8545,  2497, 23615,  1006,  1047, 11039, 19968,  2066, 16216, 19665,\n",
            "         1007, 18546, 23591,  2695,  1005,  1005, 20950, 11039, 25856,  2890,\n",
            "        15500,  1005,  1005, 29347, 14141, 10322,  7011,  4783,  2546,  2850,\n",
            "        27421,  3401,  3676, 29292,  7959,  7875,   102,     0,     0,     0,\n",
            "            0,     0,     0,     0,     0,     0,     0,     0,     0,     0,\n",
            "            0,     0,     0,     0,     0,     0,     0,     0,     0,     0,\n",
            "            0,     0,     0,     0,     0,     0,     0,     0,     0,     0,\n",
            "            0,     0,     0,     0,     0,     0,     0,     0,     0,     0,\n",
            "            0,     0,     0,     0,     0,     0,     0,     0,     0,     0,\n",
            "            0,     0,     0,     0,     0,     0,     0,     0,     0,     0,\n",
            "            0,     0,     0,     0,     0,     0,     0,     0,     0,     0,\n",
            "            0,     0,     0,     0,     0,     0,     0,     0,     0,     0,\n",
            "            0,     0,     0,     0,     0,     0,     0,     0,     0,     0,\n",
            "            0,     0,     0,     0,     0,     0,     0,     0,     0,     0,\n",
            "            0,     0,     0,     0,     0,     0,     0,     0,     0,     0,\n",
            "            0,     0,     0,     0,     0,     0,     0,     0,     0,     0,\n",
            "            0,     0,     0,     0,     0,     0,     0,     0,     0,     0,\n",
            "            0,     0,     0,     0,     0,     0,     0,     0,     0,     0,\n",
            "            0,     0,     0,     0,     0,     0,     0,     0,     0,     0,\n",
            "            0,     0,     0,     0,     0,     0,     0,     0,     0,     0,\n",
            "            0,     0,     0,     0,     0,     0,     0,     0,     0,     0,\n",
            "            0,     0,     0,     0,     0,     0,     0,     0,     0,     0,\n",
            "            0,     0,     0,     0,     0,     0,     0,     0,     0,     0,\n",
            "            0,     0,     0,     0,     0,     0,     0,     0,     0,     0,\n",
            "            0,     0,     0,     0,     0,     0,     0,     0,     0,     0,\n",
            "            0,     0,     0,     0,     0,     0,     0,     0,     0,     0,\n",
            "            0,     0,     0,     0,     0,     0,     0,     0,     0,     0,\n",
            "            0,     0,     0,     0,     0,     0,     0,     0,     0,     0,\n",
            "            0,     0,     0,     0,     0,     0,     0,     0,     0,     0,\n",
            "            0,     0,     0,     0,     0,     0,     0,     0,     0,     0,\n",
            "            0,     0,     0,     0,     0,     0,     0,     0,     0,     0,\n",
            "            0,     0,     0,     0,     0,     0,     0,     0,     0,     0,\n",
            "            0,     0,     0,     0,     0,     0,     0,     0,     0,     0,\n",
            "            0,     0,     0,     0,     0,     0,     0,     0,     0,     0,\n",
            "            0,     0,     0,     0,     0,     0,     0,     0,     0,     0,\n",
            "            0,     0,     0,     0,     0,     0,     0,     0,     0,     0,\n",
            "            0,     0,     0,     0,     0,     0,     0,     0,     0,     0,\n",
            "            0,     0,     0,     0,     0,     0,     0,     0,     0,     0,\n",
            "            0,     0,     0,     0,     0,     0,     0,     0,     0,     0,\n",
            "            0,     0,     0,     0,     0,     0,     0,     0,     0,     0,\n",
            "            0,     0,     0,     0,     0,     0,     0,     0,     0,     0,\n",
            "            0,     0,     0,     0,     0,     0,     0,     0,     0,     0,\n",
            "            0,     0,     0,     0,     0,     0,     0,     0,     0,     0,\n",
            "            0,     0,     0,     0,     0,     0,     0,     0,     0,     0,\n",
            "            0,     0,     0,     0,     0,     0,     0,     0,     0,     0,\n",
            "            0,     0,     0,     0,     0,     0,     0,     0,     0,     0,\n",
            "            0,     0,     0,     0])\n"
          ]
        }
      ],
      "source": [
        "input_ids = []\n",
        "attention_masks = []\n",
        "\n",
        "for sent in X_train.values:\n",
        "    encoded_dict = tokenizer.encode_plus(\n",
        "                        sent,\n",
        "                        add_special_tokens = True,\n",
        "                        max_length = max_len,\n",
        "                        truncation=True,\n",
        "                        pad_to_max_length = True,\n",
        "                        return_attention_mask = True,\n",
        "                        return_tensors = 'pt',\n",
        "                   ) #токенизируем\n",
        "\n",
        "    input_ids.append(encoded_dict['input_ids'])\n",
        "    attention_masks.append(encoded_dict['attention_mask'])\n",
        "\n",
        "input_ids = torch.cat(input_ids, dim=0)\n",
        "attention_masks = torch.cat(attention_masks, dim=0)\n",
        "labels = torch.tensor(y_train.values)\n",
        "\n",
        "print('Original: ', X_train.iloc[0])\n",
        "print('Token IDs:', input_ids[0])"
      ]
    },
    {
      "cell_type": "code",
      "execution_count": null,
      "metadata": {
        "colab": {
          "base_uri": "https://localhost:8080/"
        },
        "execution": {
          "iopub.execute_input": "2023-12-05T09:21:57.906152Z",
          "iopub.status.busy": "2023-12-05T09:21:57.905256Z",
          "iopub.status.idle": "2023-12-05T09:21:57.935634Z",
          "shell.execute_reply": "2023-12-05T09:21:57.934574Z",
          "shell.execute_reply.started": "2023-12-05T09:21:57.906099Z"
        },
        "id": "1PGgZNXGk3Ew",
        "outputId": "173ab8ea-5a15-4553-fd5e-dde376245dea"
      },
      "outputs": [
        {
          "name": "stdout",
          "output_type": "stream",
          "text": [
            "36,728 training samples\n",
            "9,183 validation samples\n"
          ]
        }
      ],
      "source": [
        "dataset = TensorDataset(input_ids, attention_masks, labels)\n",
        "\n",
        "train_size = int(0.8 * len(dataset))\n",
        "val_size = len(dataset)  - train_size\n",
        "\n",
        "train_dataset, val_dataset = random_split(dataset, [train_size, val_size])\n",
        "\n",
        "print('{:>5,} training samples'.format(train_size))\n",
        "print('{:>5,} validation samples'.format(val_size))"
      ]
    },
    {
      "cell_type": "code",
      "execution_count": null,
      "metadata": {
        "execution": {
          "iopub.execute_input": "2023-12-05T09:21:57.937655Z",
          "iopub.status.busy": "2023-12-05T09:21:57.936734Z",
          "iopub.status.idle": "2023-12-05T09:21:58.137818Z",
          "shell.execute_reply": "2023-12-05T09:21:58.136578Z",
          "shell.execute_reply.started": "2023-12-05T09:21:57.937611Z"
        },
        "id": "VLBYVTwCk2_k"
      },
      "outputs": [],
      "source": [
        "z_t, z_v= [],[]\n",
        "t_t, t_v =[],[]\n",
        "for t,v in zip(train_dataset, val_dataset):\n",
        "  if t[2].item() == 1:\n",
        "    t_t.append(1)\n",
        "  if v[2].item() == 1:\n",
        "    t_v.append(1)"
      ]
    },
    {
      "cell_type": "code",
      "execution_count": null,
      "metadata": {
        "colab": {
          "base_uri": "https://localhost:8080/"
        },
        "execution": {
          "iopub.execute_input": "2023-12-05T09:21:58.139865Z",
          "iopub.status.busy": "2023-12-05T09:21:58.139056Z",
          "iopub.status.idle": "2023-12-05T09:21:58.165497Z",
          "shell.execute_reply": "2023-12-05T09:21:58.164397Z",
          "shell.execute_reply.started": "2023-12-05T09:21:58.139809Z"
        },
        "id": "XLIH0DRPk29e",
        "outputId": "c9257683-92b5-4a2e-d275-c5737f2002f4"
      },
      "outputs": [
        {
          "data": {
            "text/plain": [
              "(2487, 2439)"
            ]
          },
          "execution_count": 30,
          "metadata": {},
          "output_type": "execute_result"
        }
      ],
      "source": [
        "len(t_t), len(t_v) #проверим распределение классов"
      ]
    },
    {
      "cell_type": "code",
      "execution_count": null,
      "metadata": {
        "execution": {
          "iopub.execute_input": "2023-12-05T09:21:58.167499Z",
          "iopub.status.busy": "2023-12-05T09:21:58.166644Z",
          "iopub.status.idle": "2023-12-05T09:21:58.194767Z",
          "shell.execute_reply": "2023-12-05T09:21:58.193610Z",
          "shell.execute_reply.started": "2023-12-05T09:21:58.167455Z"
        },
        "id": "ioF5rXVSk27Y"
      },
      "outputs": [],
      "source": [
        "batch_size = 32\n",
        "\n",
        "train_dataloader = DataLoader(\n",
        "            train_dataset,\n",
        "            sampler = RandomSampler(train_dataset),\n",
        "            batch_size = batch_size\n",
        "        )\n",
        "\n",
        "validation_dataloader = DataLoader(\n",
        "            val_dataset,\n",
        "            sampler = SequentialSampler(val_dataset),\n",
        "            batch_size = batch_size\n",
        "        )"
      ]
    },
    {
      "cell_type": "code",
      "execution_count": null,
      "metadata": {
        "colab": {
          "base_uri": "https://localhost:8080/",
          "height": 84,
          "referenced_widgets": [
            "1ca48cbd7c1d4df6b81dfb4ba25b603c",
            "3837c4592f7941ebbf33bd3a5934af50",
            "a5cdf62c7d29489998d203ffba240fa4",
            "99a6448cca27459e962aad7e05cdddbc",
            "03a62d4e2a404c7e95fff2efe6134b08",
            "f55bdb63801647158b0494cf0e851953",
            "7022582276a342359525ea774c4f7968",
            "1ea6532f2e6b448889e5d9535d06737d",
            "6640f776dc834c7c92df426ee1077a26",
            "36b744abd6b341b383db8b36a5e59455",
            "7f231e39dee6474abc21d7b7a9fc1459",
            "22d186414df54198b9bc889851044cb7"
          ]
        },
        "execution": {
          "iopub.execute_input": "2023-12-05T09:21:58.196944Z",
          "iopub.status.busy": "2023-12-05T09:21:58.196017Z",
          "iopub.status.idle": "2023-12-05T09:22:19.692404Z",
          "shell.execute_reply": "2023-12-05T09:22:19.691327Z",
          "shell.execute_reply.started": "2023-12-05T09:21:58.196907Z"
        },
        "id": "ToKOuoFCk25M",
        "outputId": "50a00480-23cf-4c90-df30-c4ff01d79b88"
      },
      "outputs": [
        {
          "data": {
            "application/vnd.jupyter.widget-view+json": {
              "model_id": "22d186414df54198b9bc889851044cb7",
              "version_major": 2,
              "version_minor": 0
            },
            "text/plain": [
              "model.safetensors:   0%|          | 0.00/440M [00:00<?, ?B/s]"
            ]
          },
          "metadata": {},
          "output_type": "display_data"
        },
        {
          "name": "stderr",
          "output_type": "stream",
          "text": [
            "Some weights of BertForSequenceClassification were not initialized from the model checkpoint at bert-base-uncased and are newly initialized: ['classifier.bias', 'classifier.weight']\n",
            "You should probably TRAIN this model on a down-stream task to be able to use it for predictions and inference.\n"
          ]
        }
      ],
      "source": [
        "model = BertForSequenceClassification.from_pretrained(\n",
        "    \"bert-base-uncased\",\n",
        "    num_labels = 2,\n",
        "    output_attentions = False,\n",
        "    output_hidden_states = False,\n",
        ")\n",
        "\n",
        "if device == \"cuda:0\":\n",
        "  model = model.cuda()\n",
        "else:\n",
        "  model = model.to(device)"
      ]
    },
    {
      "cell_type": "code",
      "execution_count": null,
      "metadata": {
        "colab": {
          "base_uri": "https://localhost:8080/"
        },
        "execution": {
          "iopub.execute_input": "2023-12-05T09:22:19.694321Z",
          "iopub.status.busy": "2023-12-05T09:22:19.693781Z",
          "iopub.status.idle": "2023-12-05T09:22:19.722581Z",
          "shell.execute_reply": "2023-12-05T09:22:19.721425Z",
          "shell.execute_reply.started": "2023-12-05T09:22:19.694275Z"
        },
        "id": "MKxy9hJU2Ru4",
        "outputId": "20225d8d-d9dd-4ba6-e798-af4c2d41e323"
      },
      "outputs": [
        {
          "name": "stderr",
          "output_type": "stream",
          "text": [
            "/home/jupyter/.local/lib/python3.10/site-packages/transformers/optimization.py:411: FutureWarning: This implementation of AdamW is deprecated and will be removed in a future version. Use the PyTorch implementation torch.optim.AdamW instead, or set `no_deprecation_warning=True` to disable this warning\n",
            "  warnings.warn(\n"
          ]
        }
      ],
      "source": [
        "optimizer = AdamW(model.parameters(),\n",
        "                  lr = 2e-5, #возьмем немного меньше чем по дефолту\n",
        "                  eps = 1e-8\n",
        "                )"
      ]
    },
    {
      "cell_type": "code",
      "execution_count": null,
      "metadata": {
        "execution": {
          "iopub.execute_input": "2023-12-05T09:22:19.724698Z",
          "iopub.status.busy": "2023-12-05T09:22:19.723875Z",
          "iopub.status.idle": "2023-12-05T09:22:19.741533Z",
          "shell.execute_reply": "2023-12-05T09:22:19.740471Z",
          "shell.execute_reply.started": "2023-12-05T09:22:19.724650Z"
        },
        "id": "bnLY53gM2Rr2"
      },
      "outputs": [],
      "source": [
        "epochs = 4 #можно взять и больше но не вижу смысла\n",
        "\n",
        "total_steps = len(train_dataloader) * epochs\n",
        "\n",
        "scheduler = get_linear_schedule_with_warmup(optimizer,\n",
        "                                            num_warmup_steps = 0,\n",
        "                                            num_training_steps = total_steps)"
      ]
    },
    {
      "cell_type": "code",
      "execution_count": null,
      "metadata": {
        "execution": {
          "iopub.execute_input": "2023-12-05T09:22:19.743687Z",
          "iopub.status.busy": "2023-12-05T09:22:19.742774Z",
          "iopub.status.idle": "2023-12-05T09:22:19.757740Z",
          "shell.execute_reply": "2023-12-05T09:22:19.756825Z",
          "shell.execute_reply.started": "2023-12-05T09:22:19.743636Z"
        },
        "id": "oESfAkTt2Roc"
      },
      "outputs": [],
      "source": [
        "def flat_accuracy(preds, labels):\n",
        "    pred_flat = np.argmax(preds, axis=1).flatten()\n",
        "    labels_flat = labels.flatten()\n",
        "    return np.sum(pred_flat == labels_flat) / len(labels_flat)\n",
        "\n",
        "def format_time(elapsed):\n",
        "    '''\n",
        "    Takes a time in seconds and returns a string hh:mm:ss\n",
        "    '''\n",
        "    elapsed_rounded = int(round((elapsed)))\n",
        "    return str(datetime.timedelta(seconds=elapsed_rounded))"
      ]
    },
    {
      "cell_type": "code",
      "execution_count": null,
      "metadata": {
        "colab": {
          "base_uri": "https://localhost:8080/"
        },
        "execution": {
          "iopub.execute_input": "2023-12-05T09:22:19.760131Z",
          "iopub.status.busy": "2023-12-05T09:22:19.758945Z",
          "iopub.status.idle": "2023-12-05T10:35:17.756803Z",
          "shell.execute_reply": "2023-12-05T10:35:17.755661Z",
          "shell.execute_reply.started": "2023-12-05T09:22:19.760061Z"
        },
        "id": "TyCn19UCk227",
        "outputId": "401c5b7d-4e78-4093-e45f-0a0eddcd2db7"
      },
      "outputs": [
        {
          "name": "stdout",
          "output_type": "stream",
          "text": [
            "\n",
            "======== Epoch 1 / 4 ========\n",
            "Training...\n",
            "\n",
            "  Average training loss: 0.16\n",
            "  Training epcoh took: 0:16:52\n",
            "\n",
            "Running Validation...\n",
            "  Accuracy: 0.96\n",
            "\n",
            "======== Epoch 2 / 4 ========\n",
            "Training...\n",
            "\n",
            "  Average training loss: 0.09\n",
            "  Training epcoh took: 0:16:47\n",
            "\n",
            "Running Validation...\n",
            "  Accuracy: 0.97\n",
            "\n",
            "======== Epoch 3 / 4 ========\n",
            "Training...\n",
            "\n",
            "  Average training loss: 0.07\n",
            "  Training epcoh took: 0:16:47\n",
            "\n",
            "Running Validation...\n",
            "  Accuracy: 0.97\n",
            "\n",
            "======== Epoch 4 / 4 ========\n",
            "Training...\n",
            "\n",
            "  Average training loss: 0.05\n",
            "  Training epcoh took: 0:16:47\n",
            "\n",
            "Running Validation...\n",
            "  Accuracy: 0.97\n",
            "\n",
            "Training complete!\n",
            "Total training took 1:12:58 (h:mm:ss)\n"
          ]
        }
      ],
      "source": [
        "seed_val = 42\n",
        "random.seed(seed_val)\n",
        "np.random.seed(seed_val)\n",
        "torch.manual_seed(seed_val)\n",
        "torch.cuda.manual_seed_all(seed_val)\n",
        "training_stats = []\n",
        "\n",
        "total_t0 = time.time()\n",
        "\n",
        "for epoch_i in range(0, epochs):\n",
        "\n",
        "    # ========================================\n",
        "    #               Training\n",
        "    # ========================================\n",
        "    print(\"\")\n",
        "    print('======== Epoch {:} / {:} ========'.format(epoch_i + 1, epochs))\n",
        "    print('Training...')\n",
        "    t0 = time.time()\n",
        "    total_train_loss = 0\n",
        "    model.train()\n",
        "    for step, batch in enumerate(train_dataloader):\n",
        "        b_input_ids = batch[0].to(device)\n",
        "        b_input_mask = batch[1].to(device)\n",
        "        b_labels = batch[2].to(device)\n",
        "        optimizer.zero_grad()\n",
        "        output = model(b_input_ids,\n",
        "                             token_type_ids=None,\n",
        "                             attention_mask=b_input_mask,\n",
        "                             labels=b_labels)\n",
        "        loss = output.loss\n",
        "        total_train_loss += loss.item()\n",
        "\n",
        "        loss.backward()#распространяем обратно\n",
        "        torch.nn.utils.clip_grad_norm_(model.parameters(), 1.0)#не взрываем градиент\n",
        "        optimizer.step()#обновляем\n",
        "        scheduler.step()#обновляем\n",
        "\n",
        "    #AVG los\n",
        "    avg_train_loss = total_train_loss / len(train_dataloader)\n",
        "\n",
        "    training_time = format_time(time.time() - t0)\n",
        "    print(\"\")\n",
        "    print(\"  Average training loss: {0:.2f}\".format(avg_train_loss))\n",
        "    print(\"  Training epcoh took: {:}\".format(training_time))\n",
        "    # ========================================\n",
        "    #               Validation\n",
        "    # ========================================\n",
        "    print(\"\")\n",
        "    print(\"Running Validation...\")\n",
        "    t0 = time.time()\n",
        "    model.eval()\n",
        "    total_eval_accuracy = 0\n",
        "    best_eval_accuracy = 0\n",
        "    total_eval_loss = 0\n",
        "    nb_eval_steps = 0\n",
        "    for batch in validation_dataloader:\n",
        "        b_input_ids = batch[0].to(device)\n",
        "        b_input_mask = batch[1].to(device)\n",
        "        b_labels = batch[2].to(device).\n",
        "        with torch.no_grad():\n",
        "            output= model(b_input_ids,\n",
        "                                   token_type_ids=None,\n",
        "                                   attention_mask=b_input_mask,\n",
        "                                   labels=b_labels)\n",
        "        loss = output.loss\n",
        "        total_eval_loss += loss.item()\n",
        "        #если используете GPU ставьте CPU ниже\n",
        "        logits = output.logits\n",
        "        logits = logits.detach().cpu().numpy()\n",
        "        label_ids = b_labels.to('cpu').numpy()\n",
        "        total_eval_accuracy += flat_accuracy(logits, label_ids)\n",
        "\n",
        "    avg_val_accuracy = total_eval_accuracy / len(validation_dataloader)\n",
        "    print(\"  Accuracy: {0:.2f}\".format(avg_val_accuracy))\n",
        "    avg_val_loss = total_eval_loss / len(validation_dataloader)\n",
        "    validation_time = format_time(time.time() - t0)\n",
        "    if avg_val_accuracy > best_eval_accuracy:\n",
        "        torch.save(model, 'bert_model')\n",
        "        best_eval_accuracy = avg_val_accuracy\n",
        "\n",
        "    training_stats.append(\n",
        "        {\n",
        "            'epoch': epoch_i + 1,\n",
        "            'Training Loss': avg_train_loss,\n",
        "            'Valid. Loss': avg_val_loss,\n",
        "            'Valid. Accur.': avg_val_accuracy,\n",
        "            'Training Time': training_time,\n",
        "            'Validation Time': validation_time\n",
        "        }\n",
        "    )\n",
        "print(\"\")\n",
        "print(\"Training complete!\")\n",
        "\n",
        "print(\"Total training took {:} (h:mm:ss)\".format(format_time(time.time()-total_t0)))"
      ]
    },
    {
      "cell_type": "markdown",
      "source": [
        "### Можно было еще добавить REQUEST_SIZE но не думаю что это бы дало какой то критический прирост\n"
      ],
      "metadata": {
        "id": "-7abfimgh2_h"
      }
    },
    {
      "cell_type": "code",
      "execution_count": null,
      "metadata": {
        "id": "2Oq7DaUH3JSu"
      },
      "outputs": [],
      "source": [
        ""
      ]
    },
    {
      "cell_type": "markdown",
      "source": [
        "# TEST"
      ],
      "metadata": {
        "id": "UnN-sXrghcO6"
      }
    },
    {
      "cell_type": "code",
      "execution_count": null,
      "metadata": {
        "execution": {
          "iopub.execute_input": "2023-12-05T10:37:19.000034Z",
          "iopub.status.busy": "2023-12-05T10:37:18.998953Z",
          "iopub.status.idle": "2023-12-05T10:37:19.355460Z",
          "shell.execute_reply": "2023-12-05T10:37:19.353993Z",
          "shell.execute_reply.started": "2023-12-05T10:37:18.999981Z"
        },
        "id": "noKTELal3JQM"
      },
      "outputs": [],
      "source": [
        "model = torch.load('bert_model')"
      ]
    },
    {
      "cell_type": "code",
      "execution_count": null,
      "metadata": {
        "execution": {
          "iopub.execute_input": "2023-12-05T10:38:10.323696Z",
          "iopub.status.busy": "2023-12-05T10:38:10.322770Z",
          "iopub.status.idle": "2023-12-05T10:38:10.378569Z",
          "shell.execute_reply": "2023-12-05T10:38:10.377349Z",
          "shell.execute_reply.started": "2023-12-05T10:38:10.323662Z"
        },
        "id": "tWYWpOZE3JN8",
        "outputId": "6e576408-ec37-48c8-dc26-79b5777cd2b3"
      },
      "outputs": [
        {
          "data": {
            "text/html": [
              "<div>\n",
              "<style scoped>\n",
              "    .dataframe tbody tr th:only-of-type {\n",
              "        vertical-align: middle;\n",
              "    }\n",
              "\n",
              "    .dataframe tbody tr th {\n",
              "        vertical-align: top;\n",
              "    }\n",
              "\n",
              "    .dataframe thead th {\n",
              "        text-align: right;\n",
              "    }\n",
              "</style>\n",
              "<table border=\"1\" class=\"dataframe\">\n",
              "  <thead>\n",
              "    <tr style=\"text-align: right;\">\n",
              "      <th></th>\n",
              "      <th>useragent+value</th>\n",
              "      <th>labels</th>\n",
              "    </tr>\n",
              "  </thead>\n",
              "  <tbody>\n",
              "    <tr>\n",
              "      <th>0</th>\n",
              "      <td>mozilla (windows nt ) applewebkit (khtml like ...</td>\n",
              "      <td>0.0</td>\n",
              "    </tr>\n",
              "    <tr>\n",
              "      <th>1</th>\n",
              "      <td>mozilla (compatible msie windows nt sv net clr...</td>\n",
              "      <td>1.0</td>\n",
              "    </tr>\n",
              "    <tr>\n",
              "      <th>2</th>\n",
              "      <td>mozilla (windows nt win x) applewebkit (khtml ...</td>\n",
              "      <td>0.0</td>\n",
              "    </tr>\n",
              "    <tr>\n",
              "      <th>3</th>\n",
              "      <td>mozilla (windows nt wow) applewebkit (khtml li...</td>\n",
              "      <td>0.0</td>\n",
              "    </tr>\n",
              "    <tr>\n",
              "      <th>4</th>\n",
              "      <td>mozilla (windows nt wow) applewebkit (khtml li...</td>\n",
              "      <td>0.0</td>\n",
              "    </tr>\n",
              "    <tr>\n",
              "      <th>...</th>\n",
              "      <td>...</td>\n",
              "      <td>...</td>\n",
              "    </tr>\n",
              "    <tr>\n",
              "      <th>11475</th>\n",
              "      <td>mozilla (compatible yandexbot +http yandex com...</td>\n",
              "      <td>1.0</td>\n",
              "    </tr>\n",
              "    <tr>\n",
              "      <th>11476</th>\n",
              "      <td>mozilla (linux android sm jf build lmyx) apple...</td>\n",
              "      <td>0.0</td>\n",
              "    </tr>\n",
              "    <tr>\n",
              "      <th>11477</th>\n",
              "      <td>msdw dmsch</td>\n",
              "      <td>0.0</td>\n",
              "    </tr>\n",
              "    <tr>\n",
              "      <th>11478</th>\n",
              "      <td>mozilla (linux u android en us redmi build mmb...</td>\n",
              "      <td>0.0</td>\n",
              "    </tr>\n",
              "    <tr>\n",
              "      <th>11479</th>\n",
              "      <td>mozilla (windows nt wow) applewebkit (khtml li...</td>\n",
              "      <td>1.0</td>\n",
              "    </tr>\n",
              "  </tbody>\n",
              "</table>\n",
              "<p>11480 rows × 2 columns</p>\n",
              "</div>"
            ],
            "text/plain": [
              "                                         useragent+value  labels\n",
              "0      mozilla (windows nt ) applewebkit (khtml like ...     0.0\n",
              "1      mozilla (compatible msie windows nt sv net clr...     1.0\n",
              "2      mozilla (windows nt win x) applewebkit (khtml ...     0.0\n",
              "3      mozilla (windows nt wow) applewebkit (khtml li...     0.0\n",
              "4      mozilla (windows nt wow) applewebkit (khtml li...     0.0\n",
              "...                                                  ...     ...\n",
              "11475  mozilla (compatible yandexbot +http yandex com...     1.0\n",
              "11476  mozilla (linux android sm jf build lmyx) apple...     0.0\n",
              "11477                                         msdw dmsch     0.0\n",
              "11478  mozilla (linux u android en us redmi build mmb...     0.0\n",
              "11479  mozilla (windows nt wow) applewebkit (khtml li...     1.0\n",
              "\n",
              "[11480 rows x 2 columns]"
            ]
          },
          "execution_count": 38,
          "metadata": {},
          "output_type": "execute_result"
        }
      ],
      "source": [
        "df_test = pd.read_csv('test.csv')\n",
        "df_test"
      ]
    },
    {
      "cell_type": "code",
      "execution_count": null,
      "metadata": {
        "execution": {
          "iopub.execute_input": "2023-12-05T10:39:44.831948Z",
          "iopub.status.busy": "2023-12-05T10:39:44.830985Z",
          "iopub.status.idle": "2023-12-05T10:39:44.849690Z",
          "shell.execute_reply": "2023-12-05T10:39:44.848614Z",
          "shell.execute_reply.started": "2023-12-05T10:39:44.831902Z"
        },
        "id": "jZKvBuAIYklk"
      },
      "outputs": [],
      "source": [
        "test_text = df_test['useragent+value'].values"
      ]
    },
    {
      "cell_type": "code",
      "execution_count": null,
      "metadata": {
        "execution": {
          "iopub.execute_input": "2023-12-05T10:39:45.175939Z",
          "iopub.status.busy": "2023-12-05T10:39:45.174978Z",
          "iopub.status.idle": "2023-12-05T10:40:02.521675Z",
          "shell.execute_reply": "2023-12-05T10:40:02.520524Z",
          "shell.execute_reply.started": "2023-12-05T10:39:45.175887Z"
        },
        "id": "qiOklXXuYkll",
        "outputId": "cf1a906f-da2a-4614-fc85-339569d455c7"
      },
      "outputs": [
        {
          "name": "stderr",
          "output_type": "stream",
          "text": [
            "/home/jupyter/.local/lib/python3.10/site-packages/transformers/tokenization_utils_base.py:2614: FutureWarning: The `pad_to_max_length` argument is deprecated and will be removed in a future version, use `padding=True` or `padding='longest'` to pad to the longest sequence in the batch, or use `padding='max_length'` to pad to a max length. In this case, you can give a specific length with `max_length` (e.g. `max_length=45`) or leave max_length to None to pad to the maximal input size of the model (e.g. 512 for Bert).\n",
            "  warnings.warn(\n"
          ]
        }
      ],
      "source": [
        "test_input_ids = []\n",
        "test_attention_masks = []\n",
        "for sent in test_text:\n",
        "    encoded_dict = tokenizer.encode_plus(\n",
        "                        sent,\n",
        "                        add_special_tokens = True,\n",
        "                        max_length = max_len,\n",
        "                        truncation=True,\n",
        "                        pad_to_max_length = True,\n",
        "                        return_attention_mask = True,\n",
        "                        return_tensors = 'pt',\n",
        "                   )\n",
        "    test_input_ids.append(encoded_dict['input_ids'])\n",
        "    test_attention_masks.append(encoded_dict['attention_mask'])\n",
        "test_input_ids = torch.cat(test_input_ids, dim=0)\n",
        "test_attention_masks = torch.cat(test_attention_masks, dim=0)"
      ]
    },
    {
      "cell_type": "code",
      "execution_count": null,
      "metadata": {
        "execution": {
          "iopub.execute_input": "2023-12-05T10:40:11.868370Z",
          "iopub.status.busy": "2023-12-05T10:40:11.867302Z",
          "iopub.status.idle": "2023-12-05T10:40:11.898036Z",
          "shell.execute_reply": "2023-12-05T10:40:11.896997Z",
          "shell.execute_reply.started": "2023-12-05T10:40:11.868328Z"
        },
        "id": "YDRXU3L1Ykll"
      },
      "outputs": [],
      "source": [
        "test_dataset = TensorDataset(test_input_ids, test_attention_masks)\n",
        "test_dataloader = DataLoader(\n",
        "            test_dataset,\n",
        "            sampler = SequentialSampler(test_dataset),\n",
        "            batch_size = batch_size\n",
        "        )"
      ]
    },
    {
      "cell_type": "code",
      "execution_count": null,
      "metadata": {
        "execution": {
          "iopub.execute_input": "2023-12-05T10:40:41.897305Z",
          "iopub.status.busy": "2023-12-05T10:40:41.896386Z",
          "iopub.status.idle": "2023-12-05T10:42:24.958653Z",
          "shell.execute_reply": "2023-12-05T10:42:24.957414Z",
          "shell.execute_reply.started": "2023-12-05T10:40:41.897221Z"
        },
        "id": "x9qA7GGWYklm"
      },
      "outputs": [],
      "source": [
        "predictions = []\n",
        "for batch in test_dataloader:\n",
        "        b_input_ids = batch[0].to(device)\n",
        "        b_input_mask = batch[1].to(device)\n",
        "        with torch.no_grad():\n",
        "            output= model(b_input_ids,\n",
        "                                   token_type_ids=None,\n",
        "                                   attention_mask=b_input_mask)\n",
        "            logits = output.logits\n",
        "            logits = logits.detach().cpu().numpy()\n",
        "            pred_flat = np.argmax(logits, axis=1).flatten()\n",
        "\n",
        "            predictions.extend(list(pred_flat))"
      ]
    },
    {
      "cell_type": "code",
      "execution_count": null,
      "metadata": {
        "execution": {
          "iopub.execute_input": "2023-12-05T10:46:26.078908Z",
          "iopub.status.busy": "2023-12-05T10:46:26.078247Z",
          "iopub.status.idle": "2023-12-05T10:46:26.111877Z",
          "shell.execute_reply": "2023-12-05T10:46:26.110793Z",
          "shell.execute_reply.started": "2023-12-05T10:46:26.078877Z"
        },
        "tags": [],
        "id": "IPBJ2SfKYkln"
      },
      "outputs": [],
      "source": [
        "df_test.fillna(0, inplace=True)"
      ]
    },
    {
      "cell_type": "code",
      "execution_count": null,
      "metadata": {
        "execution": {
          "iopub.execute_input": "2023-12-05T10:46:42.883563Z",
          "iopub.status.busy": "2023-12-05T10:46:42.882972Z",
          "iopub.status.idle": "2023-12-05T10:46:42.906723Z",
          "shell.execute_reply": "2023-12-05T10:46:42.905464Z",
          "shell.execute_reply.started": "2023-12-05T10:46:42.883529Z"
        },
        "tags": [],
        "id": "oCovWyLIYklm",
        "outputId": "484c4c00-6245-4ca3-fdcf-609d51e779cd"
      },
      "outputs": [
        {
          "data": {
            "text/plain": [
              "useragent+value    0\n",
              "labels             0\n",
              "dtype: int64"
            ]
          },
          "execution_count": 55,
          "metadata": {},
          "output_type": "execute_result"
        }
      ],
      "source": [
        "df_test.isna().sum()"
      ]
    },
    {
      "cell_type": "code",
      "execution_count": null,
      "metadata": {
        "execution": {
          "iopub.execute_input": "2023-12-05T10:46:58.092277Z",
          "iopub.status.busy": "2023-12-05T10:46:58.091561Z",
          "iopub.status.idle": "2023-12-05T10:46:58.151845Z",
          "shell.execute_reply": "2023-12-05T10:46:58.150790Z",
          "shell.execute_reply.started": "2023-12-05T10:46:58.092206Z"
        },
        "tags": [],
        "id": "B1VsEAM-Yklm",
        "outputId": "7deb63e0-9819-4f01-c521-e4c1f7062077"
      },
      "outputs": [
        {
          "name": "stdout",
          "output_type": "stream",
          "text": [
            "              precision    recall  f1-score   support\n",
            "\n",
            "         0.0       0.98      0.97      0.98      8330\n",
            "         1.0       0.93      0.95      0.94      3150\n",
            "\n",
            "    accuracy                           0.97     11480\n",
            "   macro avg       0.96      0.96      0.96     11480\n",
            "weighted avg       0.97      0.97      0.97     11480\n",
            "\n"
          ]
        }
      ],
      "source": [
        "print(classification_report(df_test.labels.values, predictions))"
      ]
    },
    {
      "cell_type": "code",
      "execution_count": null,
      "metadata": {
        "id": "e0k_YHxUYkln"
      },
      "outputs": [],
      "source": []
    }
  ],
  "metadata": {
    "colab": {
      "provenance": []
    },
    "kernelspec": {
      "display_name": "DataSphere Kernel",
      "language": "python",
      "name": "python3"
    },
    "language_info": {
      "codemirror_mode": {
        "name": "ipython",
        "version": 3
      },
      "file_extension": ".py",
      "mimetype": "text/x-python",
      "name": "python",
      "nbconvert_exporter": "python",
      "pygments_lexer": "ipython3",
      "version": "3.7.7"
    },
    "widgets": {
      "application/vnd.jupyter.widget-state+json": {
        "03a62d4e2a404c7e95fff2efe6134b08": {
          "model_module": "@jupyter-widgets/base",
          "model_module_version": "1.2.0",
          "model_name": "LayoutModel",
          "state": {
            "_model_module": "@jupyter-widgets/base",
            "_model_module_version": "1.2.0",
            "_model_name": "LayoutModel",
            "_view_count": null,
            "_view_module": "@jupyter-widgets/base",
            "_view_module_version": "1.2.0",
            "_view_name": "LayoutView",
            "align_content": null,
            "align_items": null,
            "align_self": null,
            "border": null,
            "bottom": null,
            "display": null,
            "flex": null,
            "flex_flow": null,
            "grid_area": null,
            "grid_auto_columns": null,
            "grid_auto_flow": null,
            "grid_auto_rows": null,
            "grid_column": null,
            "grid_gap": null,
            "grid_row": null,
            "grid_template_areas": null,
            "grid_template_columns": null,
            "grid_template_rows": null,
            "height": null,
            "justify_content": null,
            "justify_items": null,
            "left": null,
            "margin": null,
            "max_height": null,
            "max_width": null,
            "min_height": null,
            "min_width": null,
            "object_fit": null,
            "object_position": null,
            "order": null,
            "overflow": null,
            "overflow_x": null,
            "overflow_y": null,
            "padding": null,
            "right": null,
            "top": null,
            "visibility": null,
            "width": null
          }
        },
        "08bc5106aa3f445bbaae398c605e739c": {
          "model_module": "@jupyter-widgets/controls",
          "model_module_version": "1.5.0",
          "model_name": "HBoxModel",
          "state": {
            "_dom_classes": [],
            "_model_module": "@jupyter-widgets/controls",
            "_model_module_version": "1.5.0",
            "_model_name": "HBoxModel",
            "_view_count": null,
            "_view_module": "@jupyter-widgets/controls",
            "_view_module_version": "1.5.0",
            "_view_name": "HBoxView",
            "box_style": "",
            "children": [
              "IPY_MODEL_caf68a54328c45afbc73db7c180da39b",
              "IPY_MODEL_5b21638aab0c4273a6acfcaa2cb25a2a",
              "IPY_MODEL_109fc5915c11449ca9c97584340df1b9"
            ],
            "layout": "IPY_MODEL_a02dd5f2fa494b24800819fbf95f7968"
          }
        },
        "0de3ccd69ffc4dd6bd86e762d622e395": {
          "model_module": "@jupyter-widgets/base",
          "model_module_version": "1.2.0",
          "model_name": "LayoutModel",
          "state": {
            "_model_module": "@jupyter-widgets/base",
            "_model_module_version": "1.2.0",
            "_model_name": "LayoutModel",
            "_view_count": null,
            "_view_module": "@jupyter-widgets/base",
            "_view_module_version": "1.2.0",
            "_view_name": "LayoutView",
            "align_content": null,
            "align_items": null,
            "align_self": null,
            "border": null,
            "bottom": null,
            "display": null,
            "flex": null,
            "flex_flow": null,
            "grid_area": null,
            "grid_auto_columns": null,
            "grid_auto_flow": null,
            "grid_auto_rows": null,
            "grid_column": null,
            "grid_gap": null,
            "grid_row": null,
            "grid_template_areas": null,
            "grid_template_columns": null,
            "grid_template_rows": null,
            "height": null,
            "justify_content": null,
            "justify_items": null,
            "left": null,
            "margin": null,
            "max_height": null,
            "max_width": null,
            "min_height": null,
            "min_width": null,
            "object_fit": null,
            "object_position": null,
            "order": null,
            "overflow": null,
            "overflow_x": null,
            "overflow_y": null,
            "padding": null,
            "right": null,
            "top": null,
            "visibility": null,
            "width": null
          }
        },
        "0fae38ff169e43abb2c76e2e677286a3": {
          "model_module": "@jupyter-widgets/controls",
          "model_module_version": "1.5.0",
          "model_name": "DescriptionStyleModel",
          "state": {
            "_model_module": "@jupyter-widgets/controls",
            "_model_module_version": "1.5.0",
            "_model_name": "DescriptionStyleModel",
            "_view_count": null,
            "_view_module": "@jupyter-widgets/base",
            "_view_module_version": "1.2.0",
            "_view_name": "StyleView",
            "description_width": ""
          }
        },
        "109fc5915c11449ca9c97584340df1b9": {
          "model_module": "@jupyter-widgets/controls",
          "model_module_version": "1.5.0",
          "model_name": "HTMLModel",
          "state": {
            "_dom_classes": [],
            "_model_module": "@jupyter-widgets/controls",
            "_model_module_version": "1.5.0",
            "_model_name": "HTMLModel",
            "_view_count": null,
            "_view_module": "@jupyter-widgets/controls",
            "_view_module_version": "1.5.0",
            "_view_name": "HTMLView",
            "description": "",
            "description_tooltip": null,
            "layout": "IPY_MODEL_388f43e9897c4bda8be29992418969e9",
            "placeholder": "​",
            "style": "IPY_MODEL_6bc32a0083fe4915869f7570d23d3fec",
            "value": " 570/570 [00:00&lt;00:00, 21.4kB/s]"
          }
        },
        "1ab5747fe7d945b6846e2446636fb914": {
          "model_module": "@jupyter-widgets/controls",
          "model_module_version": "1.5.0",
          "model_name": "ProgressStyleModel",
          "state": {
            "_model_module": "@jupyter-widgets/controls",
            "_model_module_version": "1.5.0",
            "_model_name": "ProgressStyleModel",
            "_view_count": null,
            "_view_module": "@jupyter-widgets/base",
            "_view_module_version": "1.2.0",
            "_view_name": "StyleView",
            "bar_color": null,
            "description_width": ""
          }
        },
        "1bc3b6e70dfe47459794d42aa28d9018": {
          "model_module": "@jupyter-widgets/controls",
          "model_module_version": "1.5.0",
          "model_name": "HBoxModel",
          "state": {
            "_dom_classes": [],
            "_model_module": "@jupyter-widgets/controls",
            "_model_module_version": "1.5.0",
            "_model_name": "HBoxModel",
            "_view_count": null,
            "_view_module": "@jupyter-widgets/controls",
            "_view_module_version": "1.5.0",
            "_view_name": "HBoxView",
            "box_style": "",
            "children": [
              "IPY_MODEL_84bfb35392ac4168ab070faef7160529",
              "IPY_MODEL_94242e6cc7874c8aadd1e8b3fdfd7d7d",
              "IPY_MODEL_23cf162c5ff4469cbec621b47f478ada"
            ],
            "layout": "IPY_MODEL_46d218f205e54090b20d6d62baa771dc"
          }
        },
        "1ca48cbd7c1d4df6b81dfb4ba25b603c": {
          "model_module": "@jupyter-widgets/controls",
          "model_module_version": "1.5.0",
          "model_name": "HBoxModel",
          "state": {
            "_dom_classes": [],
            "_model_module": "@jupyter-widgets/controls",
            "_model_module_version": "1.5.0",
            "_model_name": "HBoxModel",
            "_view_count": null,
            "_view_module": "@jupyter-widgets/controls",
            "_view_module_version": "1.5.0",
            "_view_name": "HBoxView",
            "box_style": "",
            "children": [
              "IPY_MODEL_3837c4592f7941ebbf33bd3a5934af50",
              "IPY_MODEL_a5cdf62c7d29489998d203ffba240fa4",
              "IPY_MODEL_99a6448cca27459e962aad7e05cdddbc"
            ],
            "layout": "IPY_MODEL_03a62d4e2a404c7e95fff2efe6134b08"
          }
        },
        "1ea6532f2e6b448889e5d9535d06737d": {
          "model_module": "@jupyter-widgets/base",
          "model_module_version": "1.2.0",
          "model_name": "LayoutModel",
          "state": {
            "_model_module": "@jupyter-widgets/base",
            "_model_module_version": "1.2.0",
            "_model_name": "LayoutModel",
            "_view_count": null,
            "_view_module": "@jupyter-widgets/base",
            "_view_module_version": "1.2.0",
            "_view_name": "LayoutView",
            "align_content": null,
            "align_items": null,
            "align_self": null,
            "border": null,
            "bottom": null,
            "display": null,
            "flex": null,
            "flex_flow": null,
            "grid_area": null,
            "grid_auto_columns": null,
            "grid_auto_flow": null,
            "grid_auto_rows": null,
            "grid_column": null,
            "grid_gap": null,
            "grid_row": null,
            "grid_template_areas": null,
            "grid_template_columns": null,
            "grid_template_rows": null,
            "height": null,
            "justify_content": null,
            "justify_items": null,
            "left": null,
            "margin": null,
            "max_height": null,
            "max_width": null,
            "min_height": null,
            "min_width": null,
            "object_fit": null,
            "object_position": null,
            "order": null,
            "overflow": null,
            "overflow_x": null,
            "overflow_y": null,
            "padding": null,
            "right": null,
            "top": null,
            "visibility": null,
            "width": null
          }
        },
        "23cf162c5ff4469cbec621b47f478ada": {
          "model_module": "@jupyter-widgets/controls",
          "model_module_version": "1.5.0",
          "model_name": "HTMLModel",
          "state": {
            "_dom_classes": [],
            "_model_module": "@jupyter-widgets/controls",
            "_model_module_version": "1.5.0",
            "_model_name": "HTMLModel",
            "_view_count": null,
            "_view_module": "@jupyter-widgets/controls",
            "_view_module_version": "1.5.0",
            "_view_name": "HTMLView",
            "description": "",
            "description_tooltip": null,
            "layout": "IPY_MODEL_5e46e05975644987b392bcb8efbe68d1",
            "placeholder": "​",
            "style": "IPY_MODEL_0fae38ff169e43abb2c76e2e677286a3",
            "value": " 466k/466k [00:00&lt;00:00, 7.67MB/s]"
          }
        },
        "2654cab9dfce45019c877766e66897d8": {
          "model_module": "@jupyter-widgets/base",
          "model_module_version": "1.2.0",
          "model_name": "LayoutModel",
          "state": {
            "_model_module": "@jupyter-widgets/base",
            "_model_module_version": "1.2.0",
            "_model_name": "LayoutModel",
            "_view_count": null,
            "_view_module": "@jupyter-widgets/base",
            "_view_module_version": "1.2.0",
            "_view_name": "LayoutView",
            "align_content": null,
            "align_items": null,
            "align_self": null,
            "border": null,
            "bottom": null,
            "display": null,
            "flex": null,
            "flex_flow": null,
            "grid_area": null,
            "grid_auto_columns": null,
            "grid_auto_flow": null,
            "grid_auto_rows": null,
            "grid_column": null,
            "grid_gap": null,
            "grid_row": null,
            "grid_template_areas": null,
            "grid_template_columns": null,
            "grid_template_rows": null,
            "height": null,
            "justify_content": null,
            "justify_items": null,
            "left": null,
            "margin": null,
            "max_height": null,
            "max_width": null,
            "min_height": null,
            "min_width": null,
            "object_fit": null,
            "object_position": null,
            "order": null,
            "overflow": null,
            "overflow_x": null,
            "overflow_y": null,
            "padding": null,
            "right": null,
            "top": null,
            "visibility": null,
            "width": null
          }
        },
        "28f54d7462b548e48bf146b2c3cf774a": {
          "model_module": "@jupyter-widgets/base",
          "model_module_version": "1.2.0",
          "model_name": "LayoutModel",
          "state": {
            "_model_module": "@jupyter-widgets/base",
            "_model_module_version": "1.2.0",
            "_model_name": "LayoutModel",
            "_view_count": null,
            "_view_module": "@jupyter-widgets/base",
            "_view_module_version": "1.2.0",
            "_view_name": "LayoutView",
            "align_content": null,
            "align_items": null,
            "align_self": null,
            "border": null,
            "bottom": null,
            "display": null,
            "flex": null,
            "flex_flow": null,
            "grid_area": null,
            "grid_auto_columns": null,
            "grid_auto_flow": null,
            "grid_auto_rows": null,
            "grid_column": null,
            "grid_gap": null,
            "grid_row": null,
            "grid_template_areas": null,
            "grid_template_columns": null,
            "grid_template_rows": null,
            "height": null,
            "justify_content": null,
            "justify_items": null,
            "left": null,
            "margin": null,
            "max_height": null,
            "max_width": null,
            "min_height": null,
            "min_width": null,
            "object_fit": null,
            "object_position": null,
            "order": null,
            "overflow": null,
            "overflow_x": null,
            "overflow_y": null,
            "padding": null,
            "right": null,
            "top": null,
            "visibility": null,
            "width": null
          }
        },
        "36b744abd6b341b383db8b36a5e59455": {
          "model_module": "@jupyter-widgets/base",
          "model_module_version": "1.2.0",
          "model_name": "LayoutModel",
          "state": {
            "_model_module": "@jupyter-widgets/base",
            "_model_module_version": "1.2.0",
            "_model_name": "LayoutModel",
            "_view_count": null,
            "_view_module": "@jupyter-widgets/base",
            "_view_module_version": "1.2.0",
            "_view_name": "LayoutView",
            "align_content": null,
            "align_items": null,
            "align_self": null,
            "border": null,
            "bottom": null,
            "display": null,
            "flex": null,
            "flex_flow": null,
            "grid_area": null,
            "grid_auto_columns": null,
            "grid_auto_flow": null,
            "grid_auto_rows": null,
            "grid_column": null,
            "grid_gap": null,
            "grid_row": null,
            "grid_template_areas": null,
            "grid_template_columns": null,
            "grid_template_rows": null,
            "height": null,
            "justify_content": null,
            "justify_items": null,
            "left": null,
            "margin": null,
            "max_height": null,
            "max_width": null,
            "min_height": null,
            "min_width": null,
            "object_fit": null,
            "object_position": null,
            "order": null,
            "overflow": null,
            "overflow_x": null,
            "overflow_y": null,
            "padding": null,
            "right": null,
            "top": null,
            "visibility": null,
            "width": null
          }
        },
        "3837c4592f7941ebbf33bd3a5934af50": {
          "model_module": "@jupyter-widgets/controls",
          "model_module_version": "1.5.0",
          "model_name": "HTMLModel",
          "state": {
            "_dom_classes": [],
            "_model_module": "@jupyter-widgets/controls",
            "_model_module_version": "1.5.0",
            "_model_name": "HTMLModel",
            "_view_count": null,
            "_view_module": "@jupyter-widgets/controls",
            "_view_module_version": "1.5.0",
            "_view_name": "HTMLView",
            "description": "",
            "description_tooltip": null,
            "layout": "IPY_MODEL_f55bdb63801647158b0494cf0e851953",
            "placeholder": "​",
            "style": "IPY_MODEL_7022582276a342359525ea774c4f7968",
            "value": "model.safetensors: 100%"
          }
        },
        "388f43e9897c4bda8be29992418969e9": {
          "model_module": "@jupyter-widgets/base",
          "model_module_version": "1.2.0",
          "model_name": "LayoutModel",
          "state": {
            "_model_module": "@jupyter-widgets/base",
            "_model_module_version": "1.2.0",
            "_model_name": "LayoutModel",
            "_view_count": null,
            "_view_module": "@jupyter-widgets/base",
            "_view_module_version": "1.2.0",
            "_view_name": "LayoutView",
            "align_content": null,
            "align_items": null,
            "align_self": null,
            "border": null,
            "bottom": null,
            "display": null,
            "flex": null,
            "flex_flow": null,
            "grid_area": null,
            "grid_auto_columns": null,
            "grid_auto_flow": null,
            "grid_auto_rows": null,
            "grid_column": null,
            "grid_gap": null,
            "grid_row": null,
            "grid_template_areas": null,
            "grid_template_columns": null,
            "grid_template_rows": null,
            "height": null,
            "justify_content": null,
            "justify_items": null,
            "left": null,
            "margin": null,
            "max_height": null,
            "max_width": null,
            "min_height": null,
            "min_width": null,
            "object_fit": null,
            "object_position": null,
            "order": null,
            "overflow": null,
            "overflow_x": null,
            "overflow_y": null,
            "padding": null,
            "right": null,
            "top": null,
            "visibility": null,
            "width": null
          }
        },
        "4504b26f41e74a04b47f700aea78dab1": {
          "model_module": "@jupyter-widgets/base",
          "model_module_version": "1.2.0",
          "model_name": "LayoutModel",
          "state": {
            "_model_module": "@jupyter-widgets/base",
            "_model_module_version": "1.2.0",
            "_model_name": "LayoutModel",
            "_view_count": null,
            "_view_module": "@jupyter-widgets/base",
            "_view_module_version": "1.2.0",
            "_view_name": "LayoutView",
            "align_content": null,
            "align_items": null,
            "align_self": null,
            "border": null,
            "bottom": null,
            "display": null,
            "flex": null,
            "flex_flow": null,
            "grid_area": null,
            "grid_auto_columns": null,
            "grid_auto_flow": null,
            "grid_auto_rows": null,
            "grid_column": null,
            "grid_gap": null,
            "grid_row": null,
            "grid_template_areas": null,
            "grid_template_columns": null,
            "grid_template_rows": null,
            "height": null,
            "justify_content": null,
            "justify_items": null,
            "left": null,
            "margin": null,
            "max_height": null,
            "max_width": null,
            "min_height": null,
            "min_width": null,
            "object_fit": null,
            "object_position": null,
            "order": null,
            "overflow": null,
            "overflow_x": null,
            "overflow_y": null,
            "padding": null,
            "right": null,
            "top": null,
            "visibility": null,
            "width": null
          }
        },
        "46d218f205e54090b20d6d62baa771dc": {
          "model_module": "@jupyter-widgets/base",
          "model_module_version": "1.2.0",
          "model_name": "LayoutModel",
          "state": {
            "_model_module": "@jupyter-widgets/base",
            "_model_module_version": "1.2.0",
            "_model_name": "LayoutModel",
            "_view_count": null,
            "_view_module": "@jupyter-widgets/base",
            "_view_module_version": "1.2.0",
            "_view_name": "LayoutView",
            "align_content": null,
            "align_items": null,
            "align_self": null,
            "border": null,
            "bottom": null,
            "display": null,
            "flex": null,
            "flex_flow": null,
            "grid_area": null,
            "grid_auto_columns": null,
            "grid_auto_flow": null,
            "grid_auto_rows": null,
            "grid_column": null,
            "grid_gap": null,
            "grid_row": null,
            "grid_template_areas": null,
            "grid_template_columns": null,
            "grid_template_rows": null,
            "height": null,
            "justify_content": null,
            "justify_items": null,
            "left": null,
            "margin": null,
            "max_height": null,
            "max_width": null,
            "min_height": null,
            "min_width": null,
            "object_fit": null,
            "object_position": null,
            "order": null,
            "overflow": null,
            "overflow_x": null,
            "overflow_y": null,
            "padding": null,
            "right": null,
            "top": null,
            "visibility": null,
            "width": null
          }
        },
        "4e6f01e258a04b1294935ad210009807": {
          "model_module": "@jupyter-widgets/base",
          "model_module_version": "1.2.0",
          "model_name": "LayoutModel",
          "state": {
            "_model_module": "@jupyter-widgets/base",
            "_model_module_version": "1.2.0",
            "_model_name": "LayoutModel",
            "_view_count": null,
            "_view_module": "@jupyter-widgets/base",
            "_view_module_version": "1.2.0",
            "_view_name": "LayoutView",
            "align_content": null,
            "align_items": null,
            "align_self": null,
            "border": null,
            "bottom": null,
            "display": null,
            "flex": null,
            "flex_flow": null,
            "grid_area": null,
            "grid_auto_columns": null,
            "grid_auto_flow": null,
            "grid_auto_rows": null,
            "grid_column": null,
            "grid_gap": null,
            "grid_row": null,
            "grid_template_areas": null,
            "grid_template_columns": null,
            "grid_template_rows": null,
            "height": null,
            "justify_content": null,
            "justify_items": null,
            "left": null,
            "margin": null,
            "max_height": null,
            "max_width": null,
            "min_height": null,
            "min_width": null,
            "object_fit": null,
            "object_position": null,
            "order": null,
            "overflow": null,
            "overflow_x": null,
            "overflow_y": null,
            "padding": null,
            "right": null,
            "top": null,
            "visibility": null,
            "width": null
          }
        },
        "566db2a1da0a4ec3b2e3152636434a7f": {
          "model_module": "@jupyter-widgets/controls",
          "model_module_version": "1.5.0",
          "model_name": "ProgressStyleModel",
          "state": {
            "_model_module": "@jupyter-widgets/controls",
            "_model_module_version": "1.5.0",
            "_model_name": "ProgressStyleModel",
            "_view_count": null,
            "_view_module": "@jupyter-widgets/base",
            "_view_module_version": "1.2.0",
            "_view_name": "StyleView",
            "bar_color": null,
            "description_width": ""
          }
        },
        "5b21638aab0c4273a6acfcaa2cb25a2a": {
          "model_module": "@jupyter-widgets/controls",
          "model_module_version": "1.5.0",
          "model_name": "FloatProgressModel",
          "state": {
            "_dom_classes": [],
            "_model_module": "@jupyter-widgets/controls",
            "_model_module_version": "1.5.0",
            "_model_name": "FloatProgressModel",
            "_view_count": null,
            "_view_module": "@jupyter-widgets/controls",
            "_view_module_version": "1.5.0",
            "_view_name": "ProgressView",
            "bar_style": "success",
            "description": "",
            "description_tooltip": null,
            "layout": "IPY_MODEL_8ab618ccd3834b97a99e21aed54007ee",
            "max": 570,
            "min": 0,
            "orientation": "horizontal",
            "style": "IPY_MODEL_d3cfb1e71b57464395044ba7e2b9c971",
            "value": 570
          }
        },
        "5e46e05975644987b392bcb8efbe68d1": {
          "model_module": "@jupyter-widgets/base",
          "model_module_version": "1.2.0",
          "model_name": "LayoutModel",
          "state": {
            "_model_module": "@jupyter-widgets/base",
            "_model_module_version": "1.2.0",
            "_model_name": "LayoutModel",
            "_view_count": null,
            "_view_module": "@jupyter-widgets/base",
            "_view_module_version": "1.2.0",
            "_view_name": "LayoutView",
            "align_content": null,
            "align_items": null,
            "align_self": null,
            "border": null,
            "bottom": null,
            "display": null,
            "flex": null,
            "flex_flow": null,
            "grid_area": null,
            "grid_auto_columns": null,
            "grid_auto_flow": null,
            "grid_auto_rows": null,
            "grid_column": null,
            "grid_gap": null,
            "grid_row": null,
            "grid_template_areas": null,
            "grid_template_columns": null,
            "grid_template_rows": null,
            "height": null,
            "justify_content": null,
            "justify_items": null,
            "left": null,
            "margin": null,
            "max_height": null,
            "max_width": null,
            "min_height": null,
            "min_width": null,
            "object_fit": null,
            "object_position": null,
            "order": null,
            "overflow": null,
            "overflow_x": null,
            "overflow_y": null,
            "padding": null,
            "right": null,
            "top": null,
            "visibility": null,
            "width": null
          }
        },
        "5e78980eab40433fa00f5ddff4c40567": {
          "model_module": "@jupyter-widgets/controls",
          "model_module_version": "1.5.0",
          "model_name": "DescriptionStyleModel",
          "state": {
            "_model_module": "@jupyter-widgets/controls",
            "_model_module_version": "1.5.0",
            "_model_name": "DescriptionStyleModel",
            "_view_count": null,
            "_view_module": "@jupyter-widgets/base",
            "_view_module_version": "1.2.0",
            "_view_name": "StyleView",
            "description_width": ""
          }
        },
        "5f85d7ae5cc1403a962031e31579632f": {
          "model_module": "@jupyter-widgets/controls",
          "model_module_version": "1.5.0",
          "model_name": "HTMLModel",
          "state": {
            "_dom_classes": [],
            "_model_module": "@jupyter-widgets/controls",
            "_model_module_version": "1.5.0",
            "_model_name": "HTMLModel",
            "_view_count": null,
            "_view_module": "@jupyter-widgets/controls",
            "_view_module_version": "1.5.0",
            "_view_name": "HTMLView",
            "description": "",
            "description_tooltip": null,
            "layout": "IPY_MODEL_4504b26f41e74a04b47f700aea78dab1",
            "placeholder": "​",
            "style": "IPY_MODEL_9514f01ec8d1437b93b1dce251e09398",
            "value": "vocab.txt: 100%"
          }
        },
        "6640f776dc834c7c92df426ee1077a26": {
          "model_module": "@jupyter-widgets/controls",
          "model_module_version": "1.5.0",
          "model_name": "ProgressStyleModel",
          "state": {
            "_model_module": "@jupyter-widgets/controls",
            "_model_module_version": "1.5.0",
            "_model_name": "ProgressStyleModel",
            "_view_count": null,
            "_view_module": "@jupyter-widgets/base",
            "_view_module_version": "1.2.0",
            "_view_name": "StyleView",
            "bar_color": null,
            "description_width": ""
          }
        },
        "6bc32a0083fe4915869f7570d23d3fec": {
          "model_module": "@jupyter-widgets/controls",
          "model_module_version": "1.5.0",
          "model_name": "DescriptionStyleModel",
          "state": {
            "_model_module": "@jupyter-widgets/controls",
            "_model_module_version": "1.5.0",
            "_model_name": "DescriptionStyleModel",
            "_view_count": null,
            "_view_module": "@jupyter-widgets/base",
            "_view_module_version": "1.2.0",
            "_view_name": "StyleView",
            "description_width": ""
          }
        },
        "7022582276a342359525ea774c4f7968": {
          "model_module": "@jupyter-widgets/controls",
          "model_module_version": "1.5.0",
          "model_name": "DescriptionStyleModel",
          "state": {
            "_model_module": "@jupyter-widgets/controls",
            "_model_module_version": "1.5.0",
            "_model_name": "DescriptionStyleModel",
            "_view_count": null,
            "_view_module": "@jupyter-widgets/base",
            "_view_module_version": "1.2.0",
            "_view_name": "StyleView",
            "description_width": ""
          }
        },
        "702aeb7d4f8b4eb0bea196272314f264": {
          "model_module": "@jupyter-widgets/controls",
          "model_module_version": "1.5.0",
          "model_name": "FloatProgressModel",
          "state": {
            "_dom_classes": [],
            "_model_module": "@jupyter-widgets/controls",
            "_model_module_version": "1.5.0",
            "_model_name": "FloatProgressModel",
            "_view_count": null,
            "_view_module": "@jupyter-widgets/controls",
            "_view_module_version": "1.5.0",
            "_view_name": "ProgressView",
            "bar_style": "success",
            "description": "",
            "description_tooltip": null,
            "layout": "IPY_MODEL_8c78a026f25d4be7951a42070c50913a",
            "max": 28,
            "min": 0,
            "orientation": "horizontal",
            "style": "IPY_MODEL_c837e7a0de5946299bce86bc1647bc4b",
            "value": 28
          }
        },
        "733ffa8692b04586a863596599adb6cd": {
          "model_module": "@jupyter-widgets/base",
          "model_module_version": "1.2.0",
          "model_name": "LayoutModel",
          "state": {
            "_model_module": "@jupyter-widgets/base",
            "_model_module_version": "1.2.0",
            "_model_name": "LayoutModel",
            "_view_count": null,
            "_view_module": "@jupyter-widgets/base",
            "_view_module_version": "1.2.0",
            "_view_name": "LayoutView",
            "align_content": null,
            "align_items": null,
            "align_self": null,
            "border": null,
            "bottom": null,
            "display": null,
            "flex": null,
            "flex_flow": null,
            "grid_area": null,
            "grid_auto_columns": null,
            "grid_auto_flow": null,
            "grid_auto_rows": null,
            "grid_column": null,
            "grid_gap": null,
            "grid_row": null,
            "grid_template_areas": null,
            "grid_template_columns": null,
            "grid_template_rows": null,
            "height": null,
            "justify_content": null,
            "justify_items": null,
            "left": null,
            "margin": null,
            "max_height": null,
            "max_width": null,
            "min_height": null,
            "min_width": null,
            "object_fit": null,
            "object_position": null,
            "order": null,
            "overflow": null,
            "overflow_x": null,
            "overflow_y": null,
            "padding": null,
            "right": null,
            "top": null,
            "visibility": null,
            "width": null
          }
        },
        "7a4d29afae69497eba47f407aa69d8b5": {
          "model_module": "@jupyter-widgets/controls",
          "model_module_version": "1.5.0",
          "model_name": "DescriptionStyleModel",
          "state": {
            "_model_module": "@jupyter-widgets/controls",
            "_model_module_version": "1.5.0",
            "_model_name": "DescriptionStyleModel",
            "_view_count": null,
            "_view_module": "@jupyter-widgets/base",
            "_view_module_version": "1.2.0",
            "_view_name": "StyleView",
            "description_width": ""
          }
        },
        "7e2ff7bd38c14926add6d723cfcaf858": {
          "model_module": "@jupyter-widgets/base",
          "model_module_version": "1.2.0",
          "model_name": "LayoutModel",
          "state": {
            "_model_module": "@jupyter-widgets/base",
            "_model_module_version": "1.2.0",
            "_model_name": "LayoutModel",
            "_view_count": null,
            "_view_module": "@jupyter-widgets/base",
            "_view_module_version": "1.2.0",
            "_view_name": "LayoutView",
            "align_content": null,
            "align_items": null,
            "align_self": null,
            "border": null,
            "bottom": null,
            "display": null,
            "flex": null,
            "flex_flow": null,
            "grid_area": null,
            "grid_auto_columns": null,
            "grid_auto_flow": null,
            "grid_auto_rows": null,
            "grid_column": null,
            "grid_gap": null,
            "grid_row": null,
            "grid_template_areas": null,
            "grid_template_columns": null,
            "grid_template_rows": null,
            "height": null,
            "justify_content": null,
            "justify_items": null,
            "left": null,
            "margin": null,
            "max_height": null,
            "max_width": null,
            "min_height": null,
            "min_width": null,
            "object_fit": null,
            "object_position": null,
            "order": null,
            "overflow": null,
            "overflow_x": null,
            "overflow_y": null,
            "padding": null,
            "right": null,
            "top": null,
            "visibility": null,
            "width": null
          }
        },
        "7f231e39dee6474abc21d7b7a9fc1459": {
          "model_module": "@jupyter-widgets/controls",
          "model_module_version": "1.5.0",
          "model_name": "DescriptionStyleModel",
          "state": {
            "_model_module": "@jupyter-widgets/controls",
            "_model_module_version": "1.5.0",
            "_model_name": "DescriptionStyleModel",
            "_view_count": null,
            "_view_module": "@jupyter-widgets/base",
            "_view_module_version": "1.2.0",
            "_view_name": "StyleView",
            "description_width": ""
          }
        },
        "84bfb35392ac4168ab070faef7160529": {
          "model_module": "@jupyter-widgets/controls",
          "model_module_version": "1.5.0",
          "model_name": "HTMLModel",
          "state": {
            "_dom_classes": [],
            "_model_module": "@jupyter-widgets/controls",
            "_model_module_version": "1.5.0",
            "_model_name": "HTMLModel",
            "_view_count": null,
            "_view_module": "@jupyter-widgets/controls",
            "_view_module_version": "1.5.0",
            "_view_name": "HTMLView",
            "description": "",
            "description_tooltip": null,
            "layout": "IPY_MODEL_733ffa8692b04586a863596599adb6cd",
            "placeholder": "​",
            "style": "IPY_MODEL_853786dc71e442809b115858ad111b5d",
            "value": "tokenizer.json: 100%"
          }
        },
        "853786dc71e442809b115858ad111b5d": {
          "model_module": "@jupyter-widgets/controls",
          "model_module_version": "1.5.0",
          "model_name": "DescriptionStyleModel",
          "state": {
            "_model_module": "@jupyter-widgets/controls",
            "_model_module_version": "1.5.0",
            "_model_name": "DescriptionStyleModel",
            "_view_count": null,
            "_view_module": "@jupyter-widgets/base",
            "_view_module_version": "1.2.0",
            "_view_name": "StyleView",
            "description_width": ""
          }
        },
        "8ab618ccd3834b97a99e21aed54007ee": {
          "model_module": "@jupyter-widgets/base",
          "model_module_version": "1.2.0",
          "model_name": "LayoutModel",
          "state": {
            "_model_module": "@jupyter-widgets/base",
            "_model_module_version": "1.2.0",
            "_model_name": "LayoutModel",
            "_view_count": null,
            "_view_module": "@jupyter-widgets/base",
            "_view_module_version": "1.2.0",
            "_view_name": "LayoutView",
            "align_content": null,
            "align_items": null,
            "align_self": null,
            "border": null,
            "bottom": null,
            "display": null,
            "flex": null,
            "flex_flow": null,
            "grid_area": null,
            "grid_auto_columns": null,
            "grid_auto_flow": null,
            "grid_auto_rows": null,
            "grid_column": null,
            "grid_gap": null,
            "grid_row": null,
            "grid_template_areas": null,
            "grid_template_columns": null,
            "grid_template_rows": null,
            "height": null,
            "justify_content": null,
            "justify_items": null,
            "left": null,
            "margin": null,
            "max_height": null,
            "max_width": null,
            "min_height": null,
            "min_width": null,
            "object_fit": null,
            "object_position": null,
            "order": null,
            "overflow": null,
            "overflow_x": null,
            "overflow_y": null,
            "padding": null,
            "right": null,
            "top": null,
            "visibility": null,
            "width": null
          }
        },
        "8c78a026f25d4be7951a42070c50913a": {
          "model_module": "@jupyter-widgets/base",
          "model_module_version": "1.2.0",
          "model_name": "LayoutModel",
          "state": {
            "_model_module": "@jupyter-widgets/base",
            "_model_module_version": "1.2.0",
            "_model_name": "LayoutModel",
            "_view_count": null,
            "_view_module": "@jupyter-widgets/base",
            "_view_module_version": "1.2.0",
            "_view_name": "LayoutView",
            "align_content": null,
            "align_items": null,
            "align_self": null,
            "border": null,
            "bottom": null,
            "display": null,
            "flex": null,
            "flex_flow": null,
            "grid_area": null,
            "grid_auto_columns": null,
            "grid_auto_flow": null,
            "grid_auto_rows": null,
            "grid_column": null,
            "grid_gap": null,
            "grid_row": null,
            "grid_template_areas": null,
            "grid_template_columns": null,
            "grid_template_rows": null,
            "height": null,
            "justify_content": null,
            "justify_items": null,
            "left": null,
            "margin": null,
            "max_height": null,
            "max_width": null,
            "min_height": null,
            "min_width": null,
            "object_fit": null,
            "object_position": null,
            "order": null,
            "overflow": null,
            "overflow_x": null,
            "overflow_y": null,
            "padding": null,
            "right": null,
            "top": null,
            "visibility": null,
            "width": null
          }
        },
        "94242e6cc7874c8aadd1e8b3fdfd7d7d": {
          "model_module": "@jupyter-widgets/controls",
          "model_module_version": "1.5.0",
          "model_name": "FloatProgressModel",
          "state": {
            "_dom_classes": [],
            "_model_module": "@jupyter-widgets/controls",
            "_model_module_version": "1.5.0",
            "_model_name": "FloatProgressModel",
            "_view_count": null,
            "_view_module": "@jupyter-widgets/controls",
            "_view_module_version": "1.5.0",
            "_view_name": "ProgressView",
            "bar_style": "success",
            "description": "",
            "description_tooltip": null,
            "layout": "IPY_MODEL_7e2ff7bd38c14926add6d723cfcaf858",
            "max": 466062,
            "min": 0,
            "orientation": "horizontal",
            "style": "IPY_MODEL_1ab5747fe7d945b6846e2446636fb914",
            "value": 466062
          }
        },
        "9514f01ec8d1437b93b1dce251e09398": {
          "model_module": "@jupyter-widgets/controls",
          "model_module_version": "1.5.0",
          "model_name": "DescriptionStyleModel",
          "state": {
            "_model_module": "@jupyter-widgets/controls",
            "_model_module_version": "1.5.0",
            "_model_name": "DescriptionStyleModel",
            "_view_count": null,
            "_view_module": "@jupyter-widgets/base",
            "_view_module_version": "1.2.0",
            "_view_name": "StyleView",
            "description_width": ""
          }
        },
        "991f10d006bb4b9a98bf2b26eb8bbba8": {
          "model_module": "@jupyter-widgets/controls",
          "model_module_version": "1.5.0",
          "model_name": "HBoxModel",
          "state": {
            "_dom_classes": [],
            "_model_module": "@jupyter-widgets/controls",
            "_model_module_version": "1.5.0",
            "_model_name": "HBoxModel",
            "_view_count": null,
            "_view_module": "@jupyter-widgets/controls",
            "_view_module_version": "1.5.0",
            "_view_name": "HBoxView",
            "box_style": "",
            "children": [
              "IPY_MODEL_5f85d7ae5cc1403a962031e31579632f",
              "IPY_MODEL_9fcca2772e594103aaa224f23436aa98",
              "IPY_MODEL_e7271cf34c7d4aceb2b571e4dcb30bad"
            ],
            "layout": "IPY_MODEL_28f54d7462b548e48bf146b2c3cf774a"
          }
        },
        "99a6448cca27459e962aad7e05cdddbc": {
          "model_module": "@jupyter-widgets/controls",
          "model_module_version": "1.5.0",
          "model_name": "HTMLModel",
          "state": {
            "_dom_classes": [],
            "_model_module": "@jupyter-widgets/controls",
            "_model_module_version": "1.5.0",
            "_model_name": "HTMLModel",
            "_view_count": null,
            "_view_module": "@jupyter-widgets/controls",
            "_view_module_version": "1.5.0",
            "_view_name": "HTMLView",
            "description": "",
            "description_tooltip": null,
            "layout": "IPY_MODEL_36b744abd6b341b383db8b36a5e59455",
            "placeholder": "​",
            "style": "IPY_MODEL_7f231e39dee6474abc21d7b7a9fc1459",
            "value": " 440M/440M [00:03&lt;00:00, 140MB/s]"
          }
        },
        "9ef83fd7efe1494dbcd0958c86766bce": {
          "model_module": "@jupyter-widgets/controls",
          "model_module_version": "1.5.0",
          "model_name": "HBoxModel",
          "state": {
            "_dom_classes": [],
            "_model_module": "@jupyter-widgets/controls",
            "_model_module_version": "1.5.0",
            "_model_name": "HBoxModel",
            "_view_count": null,
            "_view_module": "@jupyter-widgets/controls",
            "_view_module_version": "1.5.0",
            "_view_name": "HBoxView",
            "box_style": "",
            "children": [
              "IPY_MODEL_a157ad48a5d6416da11c2da2d30a310b",
              "IPY_MODEL_702aeb7d4f8b4eb0bea196272314f264",
              "IPY_MODEL_efb5db92c6724646aa317b4f1a3fa131"
            ],
            "layout": "IPY_MODEL_0de3ccd69ffc4dd6bd86e762d622e395"
          }
        },
        "9fc399f7c30e4e7ba9667f6106b7aabc": {
          "model_module": "@jupyter-widgets/controls",
          "model_module_version": "1.5.0",
          "model_name": "DescriptionStyleModel",
          "state": {
            "_model_module": "@jupyter-widgets/controls",
            "_model_module_version": "1.5.0",
            "_model_name": "DescriptionStyleModel",
            "_view_count": null,
            "_view_module": "@jupyter-widgets/base",
            "_view_module_version": "1.2.0",
            "_view_name": "StyleView",
            "description_width": ""
          }
        },
        "9fcca2772e594103aaa224f23436aa98": {
          "model_module": "@jupyter-widgets/controls",
          "model_module_version": "1.5.0",
          "model_name": "FloatProgressModel",
          "state": {
            "_dom_classes": [],
            "_model_module": "@jupyter-widgets/controls",
            "_model_module_version": "1.5.0",
            "_model_name": "FloatProgressModel",
            "_view_count": null,
            "_view_module": "@jupyter-widgets/controls",
            "_view_module_version": "1.5.0",
            "_view_name": "ProgressView",
            "bar_style": "success",
            "description": "",
            "description_tooltip": null,
            "layout": "IPY_MODEL_2654cab9dfce45019c877766e66897d8",
            "max": 231508,
            "min": 0,
            "orientation": "horizontal",
            "style": "IPY_MODEL_566db2a1da0a4ec3b2e3152636434a7f",
            "value": 231508
          }
        },
        "a02dd5f2fa494b24800819fbf95f7968": {
          "model_module": "@jupyter-widgets/base",
          "model_module_version": "1.2.0",
          "model_name": "LayoutModel",
          "state": {
            "_model_module": "@jupyter-widgets/base",
            "_model_module_version": "1.2.0",
            "_model_name": "LayoutModel",
            "_view_count": null,
            "_view_module": "@jupyter-widgets/base",
            "_view_module_version": "1.2.0",
            "_view_name": "LayoutView",
            "align_content": null,
            "align_items": null,
            "align_self": null,
            "border": null,
            "bottom": null,
            "display": null,
            "flex": null,
            "flex_flow": null,
            "grid_area": null,
            "grid_auto_columns": null,
            "grid_auto_flow": null,
            "grid_auto_rows": null,
            "grid_column": null,
            "grid_gap": null,
            "grid_row": null,
            "grid_template_areas": null,
            "grid_template_columns": null,
            "grid_template_rows": null,
            "height": null,
            "justify_content": null,
            "justify_items": null,
            "left": null,
            "margin": null,
            "max_height": null,
            "max_width": null,
            "min_height": null,
            "min_width": null,
            "object_fit": null,
            "object_position": null,
            "order": null,
            "overflow": null,
            "overflow_x": null,
            "overflow_y": null,
            "padding": null,
            "right": null,
            "top": null,
            "visibility": null,
            "width": null
          }
        },
        "a157ad48a5d6416da11c2da2d30a310b": {
          "model_module": "@jupyter-widgets/controls",
          "model_module_version": "1.5.0",
          "model_name": "HTMLModel",
          "state": {
            "_dom_classes": [],
            "_model_module": "@jupyter-widgets/controls",
            "_model_module_version": "1.5.0",
            "_model_name": "HTMLModel",
            "_view_count": null,
            "_view_module": "@jupyter-widgets/controls",
            "_view_module_version": "1.5.0",
            "_view_name": "HTMLView",
            "description": "",
            "description_tooltip": null,
            "layout": "IPY_MODEL_4e6f01e258a04b1294935ad210009807",
            "placeholder": "​",
            "style": "IPY_MODEL_c04ff6e308c64e3fb2cae2e2972eff33",
            "value": "tokenizer_config.json: 100%"
          }
        },
        "a5cdf62c7d29489998d203ffba240fa4": {
          "model_module": "@jupyter-widgets/controls",
          "model_module_version": "1.5.0",
          "model_name": "FloatProgressModel",
          "state": {
            "_dom_classes": [],
            "_model_module": "@jupyter-widgets/controls",
            "_model_module_version": "1.5.0",
            "_model_name": "FloatProgressModel",
            "_view_count": null,
            "_view_module": "@jupyter-widgets/controls",
            "_view_module_version": "1.5.0",
            "_view_name": "ProgressView",
            "bar_style": "success",
            "description": "",
            "description_tooltip": null,
            "layout": "IPY_MODEL_1ea6532f2e6b448889e5d9535d06737d",
            "max": 440449768,
            "min": 0,
            "orientation": "horizontal",
            "style": "IPY_MODEL_6640f776dc834c7c92df426ee1077a26",
            "value": 440449768
          }
        },
        "c04ff6e308c64e3fb2cae2e2972eff33": {
          "model_module": "@jupyter-widgets/controls",
          "model_module_version": "1.5.0",
          "model_name": "DescriptionStyleModel",
          "state": {
            "_model_module": "@jupyter-widgets/controls",
            "_model_module_version": "1.5.0",
            "_model_name": "DescriptionStyleModel",
            "_view_count": null,
            "_view_module": "@jupyter-widgets/base",
            "_view_module_version": "1.2.0",
            "_view_name": "StyleView",
            "description_width": ""
          }
        },
        "c837e7a0de5946299bce86bc1647bc4b": {
          "model_module": "@jupyter-widgets/controls",
          "model_module_version": "1.5.0",
          "model_name": "ProgressStyleModel",
          "state": {
            "_model_module": "@jupyter-widgets/controls",
            "_model_module_version": "1.5.0",
            "_model_name": "ProgressStyleModel",
            "_view_count": null,
            "_view_module": "@jupyter-widgets/base",
            "_view_module_version": "1.2.0",
            "_view_name": "StyleView",
            "bar_color": null,
            "description_width": ""
          }
        },
        "c9e70c5f2c1e4a88a1dee6e1c3a8fde6": {
          "model_module": "@jupyter-widgets/base",
          "model_module_version": "1.2.0",
          "model_name": "LayoutModel",
          "state": {
            "_model_module": "@jupyter-widgets/base",
            "_model_module_version": "1.2.0",
            "_model_name": "LayoutModel",
            "_view_count": null,
            "_view_module": "@jupyter-widgets/base",
            "_view_module_version": "1.2.0",
            "_view_name": "LayoutView",
            "align_content": null,
            "align_items": null,
            "align_self": null,
            "border": null,
            "bottom": null,
            "display": null,
            "flex": null,
            "flex_flow": null,
            "grid_area": null,
            "grid_auto_columns": null,
            "grid_auto_flow": null,
            "grid_auto_rows": null,
            "grid_column": null,
            "grid_gap": null,
            "grid_row": null,
            "grid_template_areas": null,
            "grid_template_columns": null,
            "grid_template_rows": null,
            "height": null,
            "justify_content": null,
            "justify_items": null,
            "left": null,
            "margin": null,
            "max_height": null,
            "max_width": null,
            "min_height": null,
            "min_width": null,
            "object_fit": null,
            "object_position": null,
            "order": null,
            "overflow": null,
            "overflow_x": null,
            "overflow_y": null,
            "padding": null,
            "right": null,
            "top": null,
            "visibility": null,
            "width": null
          }
        },
        "caf68a54328c45afbc73db7c180da39b": {
          "model_module": "@jupyter-widgets/controls",
          "model_module_version": "1.5.0",
          "model_name": "HTMLModel",
          "state": {
            "_dom_classes": [],
            "_model_module": "@jupyter-widgets/controls",
            "_model_module_version": "1.5.0",
            "_model_name": "HTMLModel",
            "_view_count": null,
            "_view_module": "@jupyter-widgets/controls",
            "_view_module_version": "1.5.0",
            "_view_name": "HTMLView",
            "description": "",
            "description_tooltip": null,
            "layout": "IPY_MODEL_c9e70c5f2c1e4a88a1dee6e1c3a8fde6",
            "placeholder": "​",
            "style": "IPY_MODEL_9fc399f7c30e4e7ba9667f6106b7aabc",
            "value": "config.json: 100%"
          }
        },
        "d3cfb1e71b57464395044ba7e2b9c971": {
          "model_module": "@jupyter-widgets/controls",
          "model_module_version": "1.5.0",
          "model_name": "ProgressStyleModel",
          "state": {
            "_model_module": "@jupyter-widgets/controls",
            "_model_module_version": "1.5.0",
            "_model_name": "ProgressStyleModel",
            "_view_count": null,
            "_view_module": "@jupyter-widgets/base",
            "_view_module_version": "1.2.0",
            "_view_name": "StyleView",
            "bar_color": null,
            "description_width": ""
          }
        },
        "e7271cf34c7d4aceb2b571e4dcb30bad": {
          "model_module": "@jupyter-widgets/controls",
          "model_module_version": "1.5.0",
          "model_name": "HTMLModel",
          "state": {
            "_dom_classes": [],
            "_model_module": "@jupyter-widgets/controls",
            "_model_module_version": "1.5.0",
            "_model_name": "HTMLModel",
            "_view_count": null,
            "_view_module": "@jupyter-widgets/controls",
            "_view_module_version": "1.5.0",
            "_view_name": "HTMLView",
            "description": "",
            "description_tooltip": null,
            "layout": "IPY_MODEL_f0e13ba05277415b869542b0f40fdbad",
            "placeholder": "​",
            "style": "IPY_MODEL_5e78980eab40433fa00f5ddff4c40567",
            "value": " 232k/232k [00:00&lt;00:00, 3.64MB/s]"
          }
        },
        "efb5db92c6724646aa317b4f1a3fa131": {
          "model_module": "@jupyter-widgets/controls",
          "model_module_version": "1.5.0",
          "model_name": "HTMLModel",
          "state": {
            "_dom_classes": [],
            "_model_module": "@jupyter-widgets/controls",
            "_model_module_version": "1.5.0",
            "_model_name": "HTMLModel",
            "_view_count": null,
            "_view_module": "@jupyter-widgets/controls",
            "_view_module_version": "1.5.0",
            "_view_name": "HTMLView",
            "description": "",
            "description_tooltip": null,
            "layout": "IPY_MODEL_fcf74767553e447183d383609a352a9d",
            "placeholder": "​",
            "style": "IPY_MODEL_7a4d29afae69497eba47f407aa69d8b5",
            "value": " 28.0/28.0 [00:00&lt;00:00, 873B/s]"
          }
        },
        "f0e13ba05277415b869542b0f40fdbad": {
          "model_module": "@jupyter-widgets/base",
          "model_module_version": "1.2.0",
          "model_name": "LayoutModel",
          "state": {
            "_model_module": "@jupyter-widgets/base",
            "_model_module_version": "1.2.0",
            "_model_name": "LayoutModel",
            "_view_count": null,
            "_view_module": "@jupyter-widgets/base",
            "_view_module_version": "1.2.0",
            "_view_name": "LayoutView",
            "align_content": null,
            "align_items": null,
            "align_self": null,
            "border": null,
            "bottom": null,
            "display": null,
            "flex": null,
            "flex_flow": null,
            "grid_area": null,
            "grid_auto_columns": null,
            "grid_auto_flow": null,
            "grid_auto_rows": null,
            "grid_column": null,
            "grid_gap": null,
            "grid_row": null,
            "grid_template_areas": null,
            "grid_template_columns": null,
            "grid_template_rows": null,
            "height": null,
            "justify_content": null,
            "justify_items": null,
            "left": null,
            "margin": null,
            "max_height": null,
            "max_width": null,
            "min_height": null,
            "min_width": null,
            "object_fit": null,
            "object_position": null,
            "order": null,
            "overflow": null,
            "overflow_x": null,
            "overflow_y": null,
            "padding": null,
            "right": null,
            "top": null,
            "visibility": null,
            "width": null
          }
        },
        "f55bdb63801647158b0494cf0e851953": {
          "model_module": "@jupyter-widgets/base",
          "model_module_version": "1.2.0",
          "model_name": "LayoutModel",
          "state": {
            "_model_module": "@jupyter-widgets/base",
            "_model_module_version": "1.2.0",
            "_model_name": "LayoutModel",
            "_view_count": null,
            "_view_module": "@jupyter-widgets/base",
            "_view_module_version": "1.2.0",
            "_view_name": "LayoutView",
            "align_content": null,
            "align_items": null,
            "align_self": null,
            "border": null,
            "bottom": null,
            "display": null,
            "flex": null,
            "flex_flow": null,
            "grid_area": null,
            "grid_auto_columns": null,
            "grid_auto_flow": null,
            "grid_auto_rows": null,
            "grid_column": null,
            "grid_gap": null,
            "grid_row": null,
            "grid_template_areas": null,
            "grid_template_columns": null,
            "grid_template_rows": null,
            "height": null,
            "justify_content": null,
            "justify_items": null,
            "left": null,
            "margin": null,
            "max_height": null,
            "max_width": null,
            "min_height": null,
            "min_width": null,
            "object_fit": null,
            "object_position": null,
            "order": null,
            "overflow": null,
            "overflow_x": null,
            "overflow_y": null,
            "padding": null,
            "right": null,
            "top": null,
            "visibility": null,
            "width": null
          }
        },
        "fcf74767553e447183d383609a352a9d": {
          "model_module": "@jupyter-widgets/base",
          "model_module_version": "1.2.0",
          "model_name": "LayoutModel",
          "state": {
            "_model_module": "@jupyter-widgets/base",
            "_model_module_version": "1.2.0",
            "_model_name": "LayoutModel",
            "_view_count": null,
            "_view_module": "@jupyter-widgets/base",
            "_view_module_version": "1.2.0",
            "_view_name": "LayoutView",
            "align_content": null,
            "align_items": null,
            "align_self": null,
            "border": null,
            "bottom": null,
            "display": null,
            "flex": null,
            "flex_flow": null,
            "grid_area": null,
            "grid_auto_columns": null,
            "grid_auto_flow": null,
            "grid_auto_rows": null,
            "grid_column": null,
            "grid_gap": null,
            "grid_row": null,
            "grid_template_areas": null,
            "grid_template_columns": null,
            "grid_template_rows": null,
            "height": null,
            "justify_content": null,
            "justify_items": null,
            "left": null,
            "margin": null,
            "max_height": null,
            "max_width": null,
            "min_height": null,
            "min_width": null,
            "object_fit": null,
            "object_position": null,
            "order": null,
            "overflow": null,
            "overflow_x": null,
            "overflow_y": null,
            "padding": null,
            "right": null,
            "top": null,
            "visibility": null,
            "width": null
          }
        }
      }
    }
  },
  "nbformat": 4,
  "nbformat_minor": 0
}